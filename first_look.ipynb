{
 "cells": [
  {
   "cell_type": "markdown",
   "metadata": {},
   "source": [
    "# Primeira exploracao dos dados"
   ]
  },
  {
   "cell_type": "code",
   "execution_count": 1,
   "metadata": {},
   "outputs": [],
   "source": [
    "import pandas as pd\n",
    "import matplotlib.pyplot as plt\n",
    "import plotly.express as px"
   ]
  },
  {
   "cell_type": "markdown",
   "metadata": {},
   "source": [
    "## Sequencias de treino"
   ]
  },
  {
   "cell_type": "code",
   "execution_count": null,
   "metadata": {},
   "outputs": [
    {
     "data": {
      "text/html": [
       "<div>\n",
       "<style scoped>\n",
       "    .dataframe tbody tr th:only-of-type {\n",
       "        vertical-align: middle;\n",
       "    }\n",
       "\n",
       "    .dataframe tbody tr th {\n",
       "        vertical-align: top;\n",
       "    }\n",
       "\n",
       "    .dataframe thead th {\n",
       "        text-align: right;\n",
       "    }\n",
       "</style>\n",
       "<table border=\"1\" class=\"dataframe\">\n",
       "  <thead>\n",
       "    <tr style=\"text-align: right;\">\n",
       "      <th></th>\n",
       "      <th>target_id</th>\n",
       "      <th>sequence</th>\n",
       "      <th>temporal_cutoff</th>\n",
       "      <th>description</th>\n",
       "      <th>all_sequences</th>\n",
       "    </tr>\n",
       "  </thead>\n",
       "  <tbody>\n",
       "    <tr>\n",
       "      <th>0</th>\n",
       "      <td>1SCL_A</td>\n",
       "      <td>GGGUGCUCAGUACGAGAGGAACCGCACCC</td>\n",
       "      <td>1995-01-26</td>\n",
       "      <td>THE SARCIN-RICIN LOOP, A MODULAR RNA</td>\n",
       "      <td>&gt;1SCL_1|Chain A|RNA SARCIN-RICIN LOOP|Rattus n...</td>\n",
       "    </tr>\n",
       "    <tr>\n",
       "      <th>1</th>\n",
       "      <td>1RNK_A</td>\n",
       "      <td>GGCGCAGUGGGCUAGCGCCACUCAAAAGGCCCAU</td>\n",
       "      <td>1995-02-27</td>\n",
       "      <td>THE STRUCTURE OF AN RNA PSEUDOKNOT THAT CAUSES...</td>\n",
       "      <td>&gt;1RNK_1|Chain A|RNA PSEUDOKNOT|null\\nGGCGCAGUG...</td>\n",
       "    </tr>\n",
       "    <tr>\n",
       "      <th>2</th>\n",
       "      <td>1RHT_A</td>\n",
       "      <td>GGGACUGACGAUCACGCAGUCUAU</td>\n",
       "      <td>1995-06-03</td>\n",
       "      <td>24-MER RNA HAIRPIN COAT PROTEIN BINDING SITE F...</td>\n",
       "      <td>&gt;1RHT_1|Chain A|RNA (5'-R(P*GP*GP*GP*AP*CP*UP*...</td>\n",
       "    </tr>\n",
       "    <tr>\n",
       "      <th>3</th>\n",
       "      <td>1HLX_A</td>\n",
       "      <td>GGGAUAACUUCGGUUGUCCC</td>\n",
       "      <td>1995-09-15</td>\n",
       "      <td>P1 HELIX NUCLEIC ACIDS (DNA/RNA) RIBONUCLEIC ACID</td>\n",
       "      <td>&gt;1HLX_1|Chain A|RNA (5'-R(*GP*GP*GP*AP*UP*AP*A...</td>\n",
       "    </tr>\n",
       "    <tr>\n",
       "      <th>4</th>\n",
       "      <td>1HMH_E</td>\n",
       "      <td>GGCGACCCUGAUGAGGCCGAAAGGCCGAAACCGU</td>\n",
       "      <td>1995-12-07</td>\n",
       "      <td>THREE-DIMENSIONAL STRUCTURE OF A HAMMERHEAD RI...</td>\n",
       "      <td>&gt;1HMH_1|Chains A, C, E|HAMMERHEAD RIBOZYME-RNA...</td>\n",
       "    </tr>\n",
       "    <tr>\n",
       "      <th>...</th>\n",
       "      <td>...</td>\n",
       "      <td>...</td>\n",
       "      <td>...</td>\n",
       "      <td>...</td>\n",
       "      <td>...</td>\n",
       "    </tr>\n",
       "    <tr>\n",
       "      <th>839</th>\n",
       "      <td>8T3E_EC</td>\n",
       "      <td>AAACUCCAUGUAUUGGUUACCCAUCUGCAUCGAAAACUCUCCGAAC...</td>\n",
       "      <td>2024-12-11</td>\n",
       "      <td>Hypomethylated yeast 80S bound with Taura synd...</td>\n",
       "      <td>&gt;8T3E_1|Chain A[auth BA]|40S ribosomal protein...</td>\n",
       "    </tr>\n",
       "    <tr>\n",
       "      <th>840</th>\n",
       "      <td>8T3F_EC</td>\n",
       "      <td>AAACUCCAUGUAUUGGUUACCCAUCUGCAUCGAAAACUCUCCGAAC...</td>\n",
       "      <td>2024-12-11</td>\n",
       "      <td>Hypomethylated yeast 80S bound with Taura synd...</td>\n",
       "      <td>&gt;8T3F_1|Chain A[auth BA]|40S ribosomal protein...</td>\n",
       "    </tr>\n",
       "    <tr>\n",
       "      <th>841</th>\n",
       "      <td>8XCC_B</td>\n",
       "      <td>GUGCUGCUGUCUCCCAGACGGGAGGCAGAACUGCACCUUCCAUCAG...</td>\n",
       "      <td>2024-12-11</td>\n",
       "      <td>Cryo-EM structure of Cas12j19 (E100K), crRNA a...</td>\n",
       "      <td>&gt;8XCC_1|Chain A|Cas12j19(E100K)|unclassified s...</td>\n",
       "    </tr>\n",
       "    <tr>\n",
       "      <th>842</th>\n",
       "      <td>8Z1G_T</td>\n",
       "      <td>GGUAAAAUGGCUGAGUGAAGCAUUGGACUGUAAAUCUAAAGACAGG...</td>\n",
       "      <td>2024-12-18</td>\n",
       "      <td>Cryo-EM structure of human ELAC2-pre-tRNA</td>\n",
       "      <td>&gt;8Z1G_1|Chain A[auth T]|Homo sapiens mitochond...</td>\n",
       "    </tr>\n",
       "    <tr>\n",
       "      <th>843</th>\n",
       "      <td>8Z1F_T</td>\n",
       "      <td>GGUAAAAUGGCUGAGUGAAGCAUUGGACUGUAAAUCUAAAGACAGG...</td>\n",
       "      <td>2024-12-18</td>\n",
       "      <td>Cryo-EM structure of human ELAC2-tRNA</td>\n",
       "      <td>&gt;8Z1F_1|Chain A[auth T]|Homo sapiens mitochond...</td>\n",
       "    </tr>\n",
       "  </tbody>\n",
       "</table>\n",
       "<p>844 rows × 5 columns</p>\n",
       "</div>"
      ],
      "text/plain": [
       "    target_id                                           sequence  \\\n",
       "0      1SCL_A                      GGGUGCUCAGUACGAGAGGAACCGCACCC   \n",
       "1      1RNK_A                 GGCGCAGUGGGCUAGCGCCACUCAAAAGGCCCAU   \n",
       "2      1RHT_A                           GGGACUGACGAUCACGCAGUCUAU   \n",
       "3      1HLX_A                               GGGAUAACUUCGGUUGUCCC   \n",
       "4      1HMH_E                 GGCGACCCUGAUGAGGCCGAAAGGCCGAAACCGU   \n",
       "..        ...                                                ...   \n",
       "839   8T3E_EC  AAACUCCAUGUAUUGGUUACCCAUCUGCAUCGAAAACUCUCCGAAC...   \n",
       "840   8T3F_EC  AAACUCCAUGUAUUGGUUACCCAUCUGCAUCGAAAACUCUCCGAAC...   \n",
       "841    8XCC_B  GUGCUGCUGUCUCCCAGACGGGAGGCAGAACUGCACCUUCCAUCAG...   \n",
       "842    8Z1G_T  GGUAAAAUGGCUGAGUGAAGCAUUGGACUGUAAAUCUAAAGACAGG...   \n",
       "843    8Z1F_T  GGUAAAAUGGCUGAGUGAAGCAUUGGACUGUAAAUCUAAAGACAGG...   \n",
       "\n",
       "    temporal_cutoff                                        description  \\\n",
       "0        1995-01-26               THE SARCIN-RICIN LOOP, A MODULAR RNA   \n",
       "1        1995-02-27  THE STRUCTURE OF AN RNA PSEUDOKNOT THAT CAUSES...   \n",
       "2        1995-06-03  24-MER RNA HAIRPIN COAT PROTEIN BINDING SITE F...   \n",
       "3        1995-09-15  P1 HELIX NUCLEIC ACIDS (DNA/RNA) RIBONUCLEIC ACID   \n",
       "4        1995-12-07  THREE-DIMENSIONAL STRUCTURE OF A HAMMERHEAD RI...   \n",
       "..              ...                                                ...   \n",
       "839      2024-12-11  Hypomethylated yeast 80S bound with Taura synd...   \n",
       "840      2024-12-11  Hypomethylated yeast 80S bound with Taura synd...   \n",
       "841      2024-12-11  Cryo-EM structure of Cas12j19 (E100K), crRNA a...   \n",
       "842      2024-12-18          Cryo-EM structure of human ELAC2-pre-tRNA   \n",
       "843      2024-12-18              Cryo-EM structure of human ELAC2-tRNA   \n",
       "\n",
       "                                         all_sequences  \n",
       "0    >1SCL_1|Chain A|RNA SARCIN-RICIN LOOP|Rattus n...  \n",
       "1    >1RNK_1|Chain A|RNA PSEUDOKNOT|null\\nGGCGCAGUG...  \n",
       "2    >1RHT_1|Chain A|RNA (5'-R(P*GP*GP*GP*AP*CP*UP*...  \n",
       "3    >1HLX_1|Chain A|RNA (5'-R(*GP*GP*GP*AP*UP*AP*A...  \n",
       "4    >1HMH_1|Chains A, C, E|HAMMERHEAD RIBOZYME-RNA...  \n",
       "..                                                 ...  \n",
       "839  >8T3E_1|Chain A[auth BA]|40S ribosomal protein...  \n",
       "840  >8T3F_1|Chain A[auth BA]|40S ribosomal protein...  \n",
       "841  >8XCC_1|Chain A|Cas12j19(E100K)|unclassified s...  \n",
       "842  >8Z1G_1|Chain A[auth T]|Homo sapiens mitochond...  \n",
       "843  >8Z1F_1|Chain A[auth T]|Homo sapiens mitochond...  \n",
       "\n",
       "[844 rows x 5 columns]"
      ]
     },
     "execution_count": 2,
     "metadata": {},
     "output_type": "execute_result"
    }
   ],
   "source": [
    "train_seqs = pd.read_csv(\"train_sequences.csv\")\n",
    "train_seqs"
   ]
  },
  {
   "cell_type": "markdown",
   "metadata": {},
   "source": [
    "## Primeiro tratamento das sequencias de treino"
   ]
  },
  {
   "cell_type": "code",
   "execution_count": 22,
   "metadata": {},
   "outputs": [
    {
     "data": {
      "text/html": [
       "<div>\n",
       "<style scoped>\n",
       "    .dataframe tbody tr th:only-of-type {\n",
       "        vertical-align: middle;\n",
       "    }\n",
       "\n",
       "    .dataframe tbody tr th {\n",
       "        vertical-align: top;\n",
       "    }\n",
       "\n",
       "    .dataframe thead th {\n",
       "        text-align: right;\n",
       "    }\n",
       "</style>\n",
       "<table border=\"1\" class=\"dataframe\">\n",
       "  <thead>\n",
       "    <tr style=\"text-align: right;\">\n",
       "      <th></th>\n",
       "      <th>target_id</th>\n",
       "      <th>sequence</th>\n",
       "      <th>resname</th>\n",
       "      <th>resid</th>\n",
       "    </tr>\n",
       "  </thead>\n",
       "  <tbody>\n",
       "    <tr>\n",
       "      <th>0</th>\n",
       "      <td>1SCL_A_1</td>\n",
       "      <td>GGGUGCUCAGUACGAGAGGAACCGCACCC</td>\n",
       "      <td>G</td>\n",
       "      <td>1</td>\n",
       "    </tr>\n",
       "    <tr>\n",
       "      <th>1</th>\n",
       "      <td>1SCL_A_2</td>\n",
       "      <td>GGGUGCUCAGUACGAGAGGAACCGCACCC</td>\n",
       "      <td>G</td>\n",
       "      <td>2</td>\n",
       "    </tr>\n",
       "    <tr>\n",
       "      <th>2</th>\n",
       "      <td>1SCL_A_3</td>\n",
       "      <td>GGGUGCUCAGUACGAGAGGAACCGCACCC</td>\n",
       "      <td>G</td>\n",
       "      <td>3</td>\n",
       "    </tr>\n",
       "    <tr>\n",
       "      <th>3</th>\n",
       "      <td>1SCL_A_4</td>\n",
       "      <td>GGGUGCUCAGUACGAGAGGAACCGCACCC</td>\n",
       "      <td>U</td>\n",
       "      <td>4</td>\n",
       "    </tr>\n",
       "    <tr>\n",
       "      <th>4</th>\n",
       "      <td>1SCL_A_5</td>\n",
       "      <td>GGGUGCUCAGUACGAGAGGAACCGCACCC</td>\n",
       "      <td>G</td>\n",
       "      <td>5</td>\n",
       "    </tr>\n",
       "    <tr>\n",
       "      <th>...</th>\n",
       "      <td>...</td>\n",
       "      <td>...</td>\n",
       "      <td>...</td>\n",
       "      <td>...</td>\n",
       "    </tr>\n",
       "    <tr>\n",
       "      <th>137090</th>\n",
       "      <td>8Z1F_T_82</td>\n",
       "      <td>GGUAAAAUGGCUGAGUGAAGCAUUGGACUGUAAAUCUAAAGACAGG...</td>\n",
       "      <td>U</td>\n",
       "      <td>82</td>\n",
       "    </tr>\n",
       "    <tr>\n",
       "      <th>137091</th>\n",
       "      <td>8Z1F_T_83</td>\n",
       "      <td>GGUAAAAUGGCUGAGUGAAGCAUUGGACUGUAAAUCUAAAGACAGG...</td>\n",
       "      <td>C</td>\n",
       "      <td>83</td>\n",
       "    </tr>\n",
       "    <tr>\n",
       "      <th>137092</th>\n",
       "      <td>8Z1F_T_84</td>\n",
       "      <td>GGUAAAAUGGCUGAGUGAAGCAUUGGACUGUAAAUCUAAAGACAGG...</td>\n",
       "      <td>A</td>\n",
       "      <td>84</td>\n",
       "    </tr>\n",
       "    <tr>\n",
       "      <th>137093</th>\n",
       "      <td>8Z1F_T_85</td>\n",
       "      <td>GGUAAAAUGGCUGAGUGAAGCAUUGGACUGUAAAUCUAAAGACAGG...</td>\n",
       "      <td>U</td>\n",
       "      <td>85</td>\n",
       "    </tr>\n",
       "    <tr>\n",
       "      <th>137094</th>\n",
       "      <td>8Z1F_T_86</td>\n",
       "      <td>GGUAAAAUGGCUGAGUGAAGCAUUGGACUGUAAAUCUAAAGACAGG...</td>\n",
       "      <td>A</td>\n",
       "      <td>86</td>\n",
       "    </tr>\n",
       "  </tbody>\n",
       "</table>\n",
       "<p>137095 rows × 4 columns</p>\n",
       "</div>"
      ],
      "text/plain": [
       "        target_id                                           sequence resname  \\\n",
       "0        1SCL_A_1                      GGGUGCUCAGUACGAGAGGAACCGCACCC       G   \n",
       "1        1SCL_A_2                      GGGUGCUCAGUACGAGAGGAACCGCACCC       G   \n",
       "2        1SCL_A_3                      GGGUGCUCAGUACGAGAGGAACCGCACCC       G   \n",
       "3        1SCL_A_4                      GGGUGCUCAGUACGAGAGGAACCGCACCC       U   \n",
       "4        1SCL_A_5                      GGGUGCUCAGUACGAGAGGAACCGCACCC       G   \n",
       "...           ...                                                ...     ...   \n",
       "137090  8Z1F_T_82  GGUAAAAUGGCUGAGUGAAGCAUUGGACUGUAAAUCUAAAGACAGG...       U   \n",
       "137091  8Z1F_T_83  GGUAAAAUGGCUGAGUGAAGCAUUGGACUGUAAAUCUAAAGACAGG...       C   \n",
       "137092  8Z1F_T_84  GGUAAAAUGGCUGAGUGAAGCAUUGGACUGUAAAUCUAAAGACAGG...       A   \n",
       "137093  8Z1F_T_85  GGUAAAAUGGCUGAGUGAAGCAUUGGACUGUAAAUCUAAAGACAGG...       U   \n",
       "137094  8Z1F_T_86  GGUAAAAUGGCUGAGUGAAGCAUUGGACUGUAAAUCUAAAGACAGG...       A   \n",
       "\n",
       "        resid  \n",
       "0           1  \n",
       "1           2  \n",
       "2           3  \n",
       "3           4  \n",
       "4           5  \n",
       "...       ...  \n",
       "137090     82  \n",
       "137091     83  \n",
       "137092     84  \n",
       "137093     85  \n",
       "137094     86  \n",
       "\n",
       "[137095 rows x 4 columns]"
      ]
     },
     "execution_count": 22,
     "metadata": {},
     "output_type": "execute_result"
    }
   ],
   "source": [
    "train_seqs_new = train_seqs.copy()\n",
    "\n",
    "train_seqs_new[\"resname\"] = train_seqs_new[\"sequence\"].apply(lambda x: list(x))\n",
    "train_seqs_new = train_seqs_new[[\"target_id\", \"sequence\", \"resname\"]].explode(\"resname\", ignore_index=True)\n",
    "train_seqs_new[\"resid\"] = train_seqs_new.groupby(\"target_id\").cumcount() + 1\n",
    "train_seqs_new[\"target_id\"] = train_seqs_new[\"target_id\"] + \"_\" + train_seqs_new[\"resid\"].astype(str)\n",
    "train_seqs_new"
   ]
  },
  {
   "cell_type": "markdown",
   "metadata": {},
   "source": [
    "## Labels de treino"
   ]
  },
  {
   "cell_type": "code",
   "execution_count": 6,
   "metadata": {},
   "outputs": [
    {
     "data": {
      "text/html": [
       "<div>\n",
       "<style scoped>\n",
       "    .dataframe tbody tr th:only-of-type {\n",
       "        vertical-align: middle;\n",
       "    }\n",
       "\n",
       "    .dataframe tbody tr th {\n",
       "        vertical-align: top;\n",
       "    }\n",
       "\n",
       "    .dataframe thead th {\n",
       "        text-align: right;\n",
       "    }\n",
       "</style>\n",
       "<table border=\"1\" class=\"dataframe\">\n",
       "  <thead>\n",
       "    <tr style=\"text-align: right;\">\n",
       "      <th></th>\n",
       "      <th>ID</th>\n",
       "      <th>resname</th>\n",
       "      <th>resid</th>\n",
       "      <th>x_1</th>\n",
       "      <th>y_1</th>\n",
       "      <th>z_1</th>\n",
       "    </tr>\n",
       "  </thead>\n",
       "  <tbody>\n",
       "    <tr>\n",
       "      <th>0</th>\n",
       "      <td>1SCL_A_1</td>\n",
       "      <td>G</td>\n",
       "      <td>1</td>\n",
       "      <td>13.760</td>\n",
       "      <td>-25.974001</td>\n",
       "      <td>0.102</td>\n",
       "    </tr>\n",
       "    <tr>\n",
       "      <th>1</th>\n",
       "      <td>1SCL_A_2</td>\n",
       "      <td>G</td>\n",
       "      <td>2</td>\n",
       "      <td>9.310</td>\n",
       "      <td>-29.638000</td>\n",
       "      <td>2.669</td>\n",
       "    </tr>\n",
       "    <tr>\n",
       "      <th>2</th>\n",
       "      <td>1SCL_A_3</td>\n",
       "      <td>G</td>\n",
       "      <td>3</td>\n",
       "      <td>5.529</td>\n",
       "      <td>-27.813000</td>\n",
       "      <td>5.878</td>\n",
       "    </tr>\n",
       "    <tr>\n",
       "      <th>3</th>\n",
       "      <td>1SCL_A_4</td>\n",
       "      <td>U</td>\n",
       "      <td>4</td>\n",
       "      <td>2.678</td>\n",
       "      <td>-24.900999</td>\n",
       "      <td>9.793</td>\n",
       "    </tr>\n",
       "    <tr>\n",
       "      <th>4</th>\n",
       "      <td>1SCL_A_5</td>\n",
       "      <td>G</td>\n",
       "      <td>5</td>\n",
       "      <td>1.827</td>\n",
       "      <td>-20.136000</td>\n",
       "      <td>11.793</td>\n",
       "    </tr>\n",
       "    <tr>\n",
       "      <th>...</th>\n",
       "      <td>...</td>\n",
       "      <td>...</td>\n",
       "      <td>...</td>\n",
       "      <td>...</td>\n",
       "      <td>...</td>\n",
       "      <td>...</td>\n",
       "    </tr>\n",
       "    <tr>\n",
       "      <th>137090</th>\n",
       "      <td>8Z1F_T_82</td>\n",
       "      <td>U</td>\n",
       "      <td>82</td>\n",
       "      <td>NaN</td>\n",
       "      <td>NaN</td>\n",
       "      <td>NaN</td>\n",
       "    </tr>\n",
       "    <tr>\n",
       "      <th>137091</th>\n",
       "      <td>8Z1F_T_83</td>\n",
       "      <td>C</td>\n",
       "      <td>83</td>\n",
       "      <td>NaN</td>\n",
       "      <td>NaN</td>\n",
       "      <td>NaN</td>\n",
       "    </tr>\n",
       "    <tr>\n",
       "      <th>137092</th>\n",
       "      <td>8Z1F_T_84</td>\n",
       "      <td>A</td>\n",
       "      <td>84</td>\n",
       "      <td>NaN</td>\n",
       "      <td>NaN</td>\n",
       "      <td>NaN</td>\n",
       "    </tr>\n",
       "    <tr>\n",
       "      <th>137093</th>\n",
       "      <td>8Z1F_T_85</td>\n",
       "      <td>U</td>\n",
       "      <td>85</td>\n",
       "      <td>NaN</td>\n",
       "      <td>NaN</td>\n",
       "      <td>NaN</td>\n",
       "    </tr>\n",
       "    <tr>\n",
       "      <th>137094</th>\n",
       "      <td>8Z1F_T_86</td>\n",
       "      <td>A</td>\n",
       "      <td>86</td>\n",
       "      <td>NaN</td>\n",
       "      <td>NaN</td>\n",
       "      <td>NaN</td>\n",
       "    </tr>\n",
       "  </tbody>\n",
       "</table>\n",
       "<p>137095 rows × 6 columns</p>\n",
       "</div>"
      ],
      "text/plain": [
       "               ID resname  resid     x_1        y_1     z_1\n",
       "0        1SCL_A_1       G      1  13.760 -25.974001   0.102\n",
       "1        1SCL_A_2       G      2   9.310 -29.638000   2.669\n",
       "2        1SCL_A_3       G      3   5.529 -27.813000   5.878\n",
       "3        1SCL_A_4       U      4   2.678 -24.900999   9.793\n",
       "4        1SCL_A_5       G      5   1.827 -20.136000  11.793\n",
       "...           ...     ...    ...     ...        ...     ...\n",
       "137090  8Z1F_T_82       U     82     NaN        NaN     NaN\n",
       "137091  8Z1F_T_83       C     83     NaN        NaN     NaN\n",
       "137092  8Z1F_T_84       A     84     NaN        NaN     NaN\n",
       "137093  8Z1F_T_85       U     85     NaN        NaN     NaN\n",
       "137094  8Z1F_T_86       A     86     NaN        NaN     NaN\n",
       "\n",
       "[137095 rows x 6 columns]"
      ]
     },
     "execution_count": 6,
     "metadata": {},
     "output_type": "execute_result"
    }
   ],
   "source": [
    "train_labels = pd.read_csv(\"train_labels.csv\")\n",
    "train_labels"
   ]
  },
  {
   "cell_type": "markdown",
   "metadata": {},
   "source": [
    "## Dados de treino totais"
   ]
  },
  {
   "cell_type": "code",
   "execution_count": 27,
   "metadata": {},
   "outputs": [
    {
     "data": {
      "text/html": [
       "<div>\n",
       "<style scoped>\n",
       "    .dataframe tbody tr th:only-of-type {\n",
       "        vertical-align: middle;\n",
       "    }\n",
       "\n",
       "    .dataframe tbody tr th {\n",
       "        vertical-align: top;\n",
       "    }\n",
       "\n",
       "    .dataframe thead th {\n",
       "        text-align: right;\n",
       "    }\n",
       "</style>\n",
       "<table border=\"1\" class=\"dataframe\">\n",
       "  <thead>\n",
       "    <tr style=\"text-align: right;\">\n",
       "      <th></th>\n",
       "      <th>sequence</th>\n",
       "      <th>ID</th>\n",
       "      <th>resname</th>\n",
       "      <th>resid</th>\n",
       "      <th>x_1</th>\n",
       "      <th>y_1</th>\n",
       "      <th>z_1</th>\n",
       "    </tr>\n",
       "  </thead>\n",
       "  <tbody>\n",
       "    <tr>\n",
       "      <th>0</th>\n",
       "      <td>GGGUGCUCAGUACGAGAGGAACCGCACCC</td>\n",
       "      <td>1SCL_A_1</td>\n",
       "      <td>G</td>\n",
       "      <td>1</td>\n",
       "      <td>13.760</td>\n",
       "      <td>-25.974001</td>\n",
       "      <td>0.102</td>\n",
       "    </tr>\n",
       "    <tr>\n",
       "      <th>1</th>\n",
       "      <td>GGGUGCUCAGUACGAGAGGAACCGCACCC</td>\n",
       "      <td>1SCL_A_2</td>\n",
       "      <td>G</td>\n",
       "      <td>2</td>\n",
       "      <td>9.310</td>\n",
       "      <td>-29.638000</td>\n",
       "      <td>2.669</td>\n",
       "    </tr>\n",
       "    <tr>\n",
       "      <th>2</th>\n",
       "      <td>GGGUGCUCAGUACGAGAGGAACCGCACCC</td>\n",
       "      <td>1SCL_A_3</td>\n",
       "      <td>G</td>\n",
       "      <td>3</td>\n",
       "      <td>5.529</td>\n",
       "      <td>-27.813000</td>\n",
       "      <td>5.878</td>\n",
       "    </tr>\n",
       "    <tr>\n",
       "      <th>3</th>\n",
       "      <td>GGGUGCUCAGUACGAGAGGAACCGCACCC</td>\n",
       "      <td>1SCL_A_4</td>\n",
       "      <td>U</td>\n",
       "      <td>4</td>\n",
       "      <td>2.678</td>\n",
       "      <td>-24.900999</td>\n",
       "      <td>9.793</td>\n",
       "    </tr>\n",
       "    <tr>\n",
       "      <th>4</th>\n",
       "      <td>GGGUGCUCAGUACGAGAGGAACCGCACCC</td>\n",
       "      <td>1SCL_A_5</td>\n",
       "      <td>G</td>\n",
       "      <td>5</td>\n",
       "      <td>1.827</td>\n",
       "      <td>-20.136000</td>\n",
       "      <td>11.793</td>\n",
       "    </tr>\n",
       "    <tr>\n",
       "      <th>...</th>\n",
       "      <td>...</td>\n",
       "      <td>...</td>\n",
       "      <td>...</td>\n",
       "      <td>...</td>\n",
       "      <td>...</td>\n",
       "      <td>...</td>\n",
       "      <td>...</td>\n",
       "    </tr>\n",
       "    <tr>\n",
       "      <th>137090</th>\n",
       "      <td>GGUAAAAUGGCUGAGUGAAGCAUUGGACUGUAAAUCUAAAGACAGG...</td>\n",
       "      <td>8Z1F_T_82</td>\n",
       "      <td>U</td>\n",
       "      <td>82</td>\n",
       "      <td>NaN</td>\n",
       "      <td>NaN</td>\n",
       "      <td>NaN</td>\n",
       "    </tr>\n",
       "    <tr>\n",
       "      <th>137091</th>\n",
       "      <td>GGUAAAAUGGCUGAGUGAAGCAUUGGACUGUAAAUCUAAAGACAGG...</td>\n",
       "      <td>8Z1F_T_83</td>\n",
       "      <td>C</td>\n",
       "      <td>83</td>\n",
       "      <td>NaN</td>\n",
       "      <td>NaN</td>\n",
       "      <td>NaN</td>\n",
       "    </tr>\n",
       "    <tr>\n",
       "      <th>137092</th>\n",
       "      <td>GGUAAAAUGGCUGAGUGAAGCAUUGGACUGUAAAUCUAAAGACAGG...</td>\n",
       "      <td>8Z1F_T_84</td>\n",
       "      <td>A</td>\n",
       "      <td>84</td>\n",
       "      <td>NaN</td>\n",
       "      <td>NaN</td>\n",
       "      <td>NaN</td>\n",
       "    </tr>\n",
       "    <tr>\n",
       "      <th>137093</th>\n",
       "      <td>GGUAAAAUGGCUGAGUGAAGCAUUGGACUGUAAAUCUAAAGACAGG...</td>\n",
       "      <td>8Z1F_T_85</td>\n",
       "      <td>U</td>\n",
       "      <td>85</td>\n",
       "      <td>NaN</td>\n",
       "      <td>NaN</td>\n",
       "      <td>NaN</td>\n",
       "    </tr>\n",
       "    <tr>\n",
       "      <th>137094</th>\n",
       "      <td>GGUAAAAUGGCUGAGUGAAGCAUUGGACUGUAAAUCUAAAGACAGG...</td>\n",
       "      <td>8Z1F_T_86</td>\n",
       "      <td>A</td>\n",
       "      <td>86</td>\n",
       "      <td>NaN</td>\n",
       "      <td>NaN</td>\n",
       "      <td>NaN</td>\n",
       "    </tr>\n",
       "  </tbody>\n",
       "</table>\n",
       "<p>137095 rows × 7 columns</p>\n",
       "</div>"
      ],
      "text/plain": [
       "                                                 sequence         ID resname  \\\n",
       "0                           GGGUGCUCAGUACGAGAGGAACCGCACCC   1SCL_A_1       G   \n",
       "1                           GGGUGCUCAGUACGAGAGGAACCGCACCC   1SCL_A_2       G   \n",
       "2                           GGGUGCUCAGUACGAGAGGAACCGCACCC   1SCL_A_3       G   \n",
       "3                           GGGUGCUCAGUACGAGAGGAACCGCACCC   1SCL_A_4       U   \n",
       "4                           GGGUGCUCAGUACGAGAGGAACCGCACCC   1SCL_A_5       G   \n",
       "...                                                   ...        ...     ...   \n",
       "137090  GGUAAAAUGGCUGAGUGAAGCAUUGGACUGUAAAUCUAAAGACAGG...  8Z1F_T_82       U   \n",
       "137091  GGUAAAAUGGCUGAGUGAAGCAUUGGACUGUAAAUCUAAAGACAGG...  8Z1F_T_83       C   \n",
       "137092  GGUAAAAUGGCUGAGUGAAGCAUUGGACUGUAAAUCUAAAGACAGG...  8Z1F_T_84       A   \n",
       "137093  GGUAAAAUGGCUGAGUGAAGCAUUGGACUGUAAAUCUAAAGACAGG...  8Z1F_T_85       U   \n",
       "137094  GGUAAAAUGGCUGAGUGAAGCAUUGGACUGUAAAUCUAAAGACAGG...  8Z1F_T_86       A   \n",
       "\n",
       "        resid     x_1        y_1     z_1  \n",
       "0           1  13.760 -25.974001   0.102  \n",
       "1           2   9.310 -29.638000   2.669  \n",
       "2           3   5.529 -27.813000   5.878  \n",
       "3           4   2.678 -24.900999   9.793  \n",
       "4           5   1.827 -20.136000  11.793  \n",
       "...       ...     ...        ...     ...  \n",
       "137090     82     NaN        NaN     NaN  \n",
       "137091     83     NaN        NaN     NaN  \n",
       "137092     84     NaN        NaN     NaN  \n",
       "137093     85     NaN        NaN     NaN  \n",
       "137094     86     NaN        NaN     NaN  \n",
       "\n",
       "[137095 rows x 7 columns]"
      ]
     },
     "execution_count": 27,
     "metadata": {},
     "output_type": "execute_result"
    }
   ],
   "source": [
    "pd.merge(train_seqs_new[[\"target_id\", \"sequence\"]], train_labels, left_on=\"target_id\", right_on=\"ID\").drop(\"target_id\", axis=1)"
   ]
  },
  {
   "cell_type": "markdown",
   "metadata": {},
   "source": [
    "## Visualizacao de uma molecula"
   ]
  },
  {
   "cell_type": "code",
   "execution_count": null,
   "metadata": {},
   "outputs": [
    {
     "data": {
      "application/vnd.plotly.v1+json": {
       "config": {
        "plotlyServerURL": "https://plot.ly"
       },
       "data": [
        {
         "customdata": [
          [
           "G",
           1
          ],
          [
           "G",
           2
          ],
          [
           "G",
           3
          ],
          [
           "U",
           4
          ],
          [
           "G",
           5
          ],
          [
           "C",
           6
          ],
          [
           "U",
           7
          ],
          [
           "C",
           8
          ],
          [
           "A",
           9
          ],
          [
           "G",
           10
          ],
          [
           "U",
           11
          ],
          [
           "A",
           12
          ],
          [
           "C",
           13
          ],
          [
           "G",
           14
          ],
          [
           "A",
           15
          ],
          [
           "G",
           16
          ],
          [
           "A",
           17
          ],
          [
           "G",
           18
          ],
          [
           "G",
           19
          ],
          [
           "A",
           20
          ],
          [
           "A",
           21
          ],
          [
           "C",
           22
          ],
          [
           "C",
           23
          ],
          [
           "G",
           24
          ],
          [
           "C",
           25
          ],
          [
           "A",
           26
          ],
          [
           "C",
           27
          ],
          [
           "C",
           28
          ],
          [
           "C",
           29
          ]
         ],
         "hovertemplate": "x_1=%{x}<br>y_1=%{y}<br>z_1=%{z}<br>resname=%{customdata[0]}<br>resid=%{customdata[1]}<extra></extra>",
         "legendgroup": "",
         "line": {
          "color": "#636efa",
          "dash": "solid"
         },
         "marker": {
          "symbol": "circle"
         },
         "mode": "lines+markers",
         "name": "",
         "scene": "scene",
         "showlegend": false,
         "type": "scatter3d",
         "x": {
          "bdata": "AAAAwB6FK0AAAABguJ4iQAEAACCyHRZAAAAAQItsBUAAAABgZDv9PwEAAIDrUQBAAAAAoEW28T8AAABgke0HQAAAAEAIrOw/AAAAoBovzT8AAABg5VARQAAAAMD1qBRAAAAAoEfhBEAAAABAtMjyPwAAACCuR/k/AAAAQDMz+b8AAABgOTQYwAAAAMBLNxbAAAAA4CLbCMAAAAAgXI/2vwEAAOAi2/0/AAAAoHA9DUAAAABAiUEVQAAAACBYuR9AAAAA4FF4IUAAAADASzciQAAAAKBDyyFAAAAAgJNYI0AAAAAgMUgpQA==",
          "dtype": "f8"
         },
         "y": {
          "bdata": "AAAAIFj5OcAAAAAAVKM9wAEAAMAg0DvAAAAA4KfmOMAAAADg0CI0wP///1/l0C3AAAAA4KcGJ8AAAACAvp8ZwAAAACCHFvO/AAAAAAIrBUAAAADAdr4FQAAAAAACKxNAAAAAoHD9IkD///+/cqgrQAAAAKBwHTRAAAAAYJHtMEAAAADgJIYtQAAAAOB61CRAAAAAYLieGUAAAACAFK4KQAAAAOB46ea/AAAA4KfGEcAAAACAvp8ewAAAAABWDiPAAAAAoMZLKcAAAACgxksxwAAAAOAimzbAAAAAIIdWPMD///8fMeg+wA==",
          "dtype": "f8"
         },
         "z": {
          "bdata": "+////6scuj8AAACgHFoFQAAAAGASgxdA////HwSWI0D///8fBJYnQAAAAIDAiidAAAAAgGgRHkAAAADAyiETQAAAAICXbh5AAAAAQIlBIkAAAADASzcTQAAAAOB8P+2/AAAAwMh2AsD+//8/XrrJPwAAAOB6FA5AAAAAIIeWF0AAAABAYOUUQAAAAIBqPBFAAAAAgML1AEAAAACgcD0FwAAAAAD+VBHAAAAAoEfhA8AAAADgehTyPwAAAIC+HxdA////v8wMJEAAAACAwAoqQAEAACCynSxAAAAAAIGVKkAAAACAPUojQA==",
          "dtype": "f8"
         }
        }
       ],
       "layout": {
        "legend": {
         "tracegroupgap": 0
        },
        "margin": {
         "t": 60
        },
        "scene": {
         "domain": {
          "x": [
           0,
           1
          ],
          "y": [
           0,
           1
          ]
         },
         "xaxis": {
          "title": {
           "text": "x_1"
          }
         },
         "yaxis": {
          "title": {
           "text": "y_1"
          }
         },
         "zaxis": {
          "title": {
           "text": "z_1"
          }
         }
        },
        "template": {
         "data": {
          "bar": [
           {
            "error_x": {
             "color": "#2a3f5f"
            },
            "error_y": {
             "color": "#2a3f5f"
            },
            "marker": {
             "line": {
              "color": "#E5ECF6",
              "width": 0.5
             },
             "pattern": {
              "fillmode": "overlay",
              "size": 10,
              "solidity": 0.2
             }
            },
            "type": "bar"
           }
          ],
          "barpolar": [
           {
            "marker": {
             "line": {
              "color": "#E5ECF6",
              "width": 0.5
             },
             "pattern": {
              "fillmode": "overlay",
              "size": 10,
              "solidity": 0.2
             }
            },
            "type": "barpolar"
           }
          ],
          "carpet": [
           {
            "aaxis": {
             "endlinecolor": "#2a3f5f",
             "gridcolor": "white",
             "linecolor": "white",
             "minorgridcolor": "white",
             "startlinecolor": "#2a3f5f"
            },
            "baxis": {
             "endlinecolor": "#2a3f5f",
             "gridcolor": "white",
             "linecolor": "white",
             "minorgridcolor": "white",
             "startlinecolor": "#2a3f5f"
            },
            "type": "carpet"
           }
          ],
          "choropleth": [
           {
            "colorbar": {
             "outlinewidth": 0,
             "ticks": ""
            },
            "type": "choropleth"
           }
          ],
          "contour": [
           {
            "colorbar": {
             "outlinewidth": 0,
             "ticks": ""
            },
            "colorscale": [
             [
              0,
              "#0d0887"
             ],
             [
              0.1111111111111111,
              "#46039f"
             ],
             [
              0.2222222222222222,
              "#7201a8"
             ],
             [
              0.3333333333333333,
              "#9c179e"
             ],
             [
              0.4444444444444444,
              "#bd3786"
             ],
             [
              0.5555555555555556,
              "#d8576b"
             ],
             [
              0.6666666666666666,
              "#ed7953"
             ],
             [
              0.7777777777777778,
              "#fb9f3a"
             ],
             [
              0.8888888888888888,
              "#fdca26"
             ],
             [
              1,
              "#f0f921"
             ]
            ],
            "type": "contour"
           }
          ],
          "contourcarpet": [
           {
            "colorbar": {
             "outlinewidth": 0,
             "ticks": ""
            },
            "type": "contourcarpet"
           }
          ],
          "heatmap": [
           {
            "colorbar": {
             "outlinewidth": 0,
             "ticks": ""
            },
            "colorscale": [
             [
              0,
              "#0d0887"
             ],
             [
              0.1111111111111111,
              "#46039f"
             ],
             [
              0.2222222222222222,
              "#7201a8"
             ],
             [
              0.3333333333333333,
              "#9c179e"
             ],
             [
              0.4444444444444444,
              "#bd3786"
             ],
             [
              0.5555555555555556,
              "#d8576b"
             ],
             [
              0.6666666666666666,
              "#ed7953"
             ],
             [
              0.7777777777777778,
              "#fb9f3a"
             ],
             [
              0.8888888888888888,
              "#fdca26"
             ],
             [
              1,
              "#f0f921"
             ]
            ],
            "type": "heatmap"
           }
          ],
          "histogram": [
           {
            "marker": {
             "pattern": {
              "fillmode": "overlay",
              "size": 10,
              "solidity": 0.2
             }
            },
            "type": "histogram"
           }
          ],
          "histogram2d": [
           {
            "colorbar": {
             "outlinewidth": 0,
             "ticks": ""
            },
            "colorscale": [
             [
              0,
              "#0d0887"
             ],
             [
              0.1111111111111111,
              "#46039f"
             ],
             [
              0.2222222222222222,
              "#7201a8"
             ],
             [
              0.3333333333333333,
              "#9c179e"
             ],
             [
              0.4444444444444444,
              "#bd3786"
             ],
             [
              0.5555555555555556,
              "#d8576b"
             ],
             [
              0.6666666666666666,
              "#ed7953"
             ],
             [
              0.7777777777777778,
              "#fb9f3a"
             ],
             [
              0.8888888888888888,
              "#fdca26"
             ],
             [
              1,
              "#f0f921"
             ]
            ],
            "type": "histogram2d"
           }
          ],
          "histogram2dcontour": [
           {
            "colorbar": {
             "outlinewidth": 0,
             "ticks": ""
            },
            "colorscale": [
             [
              0,
              "#0d0887"
             ],
             [
              0.1111111111111111,
              "#46039f"
             ],
             [
              0.2222222222222222,
              "#7201a8"
             ],
             [
              0.3333333333333333,
              "#9c179e"
             ],
             [
              0.4444444444444444,
              "#bd3786"
             ],
             [
              0.5555555555555556,
              "#d8576b"
             ],
             [
              0.6666666666666666,
              "#ed7953"
             ],
             [
              0.7777777777777778,
              "#fb9f3a"
             ],
             [
              0.8888888888888888,
              "#fdca26"
             ],
             [
              1,
              "#f0f921"
             ]
            ],
            "type": "histogram2dcontour"
           }
          ],
          "mesh3d": [
           {
            "colorbar": {
             "outlinewidth": 0,
             "ticks": ""
            },
            "type": "mesh3d"
           }
          ],
          "parcoords": [
           {
            "line": {
             "colorbar": {
              "outlinewidth": 0,
              "ticks": ""
             }
            },
            "type": "parcoords"
           }
          ],
          "pie": [
           {
            "automargin": true,
            "type": "pie"
           }
          ],
          "scatter": [
           {
            "fillpattern": {
             "fillmode": "overlay",
             "size": 10,
             "solidity": 0.2
            },
            "type": "scatter"
           }
          ],
          "scatter3d": [
           {
            "line": {
             "colorbar": {
              "outlinewidth": 0,
              "ticks": ""
             }
            },
            "marker": {
             "colorbar": {
              "outlinewidth": 0,
              "ticks": ""
             }
            },
            "type": "scatter3d"
           }
          ],
          "scattercarpet": [
           {
            "marker": {
             "colorbar": {
              "outlinewidth": 0,
              "ticks": ""
             }
            },
            "type": "scattercarpet"
           }
          ],
          "scattergeo": [
           {
            "marker": {
             "colorbar": {
              "outlinewidth": 0,
              "ticks": ""
             }
            },
            "type": "scattergeo"
           }
          ],
          "scattergl": [
           {
            "marker": {
             "colorbar": {
              "outlinewidth": 0,
              "ticks": ""
             }
            },
            "type": "scattergl"
           }
          ],
          "scattermap": [
           {
            "marker": {
             "colorbar": {
              "outlinewidth": 0,
              "ticks": ""
             }
            },
            "type": "scattermap"
           }
          ],
          "scattermapbox": [
           {
            "marker": {
             "colorbar": {
              "outlinewidth": 0,
              "ticks": ""
             }
            },
            "type": "scattermapbox"
           }
          ],
          "scatterpolar": [
           {
            "marker": {
             "colorbar": {
              "outlinewidth": 0,
              "ticks": ""
             }
            },
            "type": "scatterpolar"
           }
          ],
          "scatterpolargl": [
           {
            "marker": {
             "colorbar": {
              "outlinewidth": 0,
              "ticks": ""
             }
            },
            "type": "scatterpolargl"
           }
          ],
          "scatterternary": [
           {
            "marker": {
             "colorbar": {
              "outlinewidth": 0,
              "ticks": ""
             }
            },
            "type": "scatterternary"
           }
          ],
          "surface": [
           {
            "colorbar": {
             "outlinewidth": 0,
             "ticks": ""
            },
            "colorscale": [
             [
              0,
              "#0d0887"
             ],
             [
              0.1111111111111111,
              "#46039f"
             ],
             [
              0.2222222222222222,
              "#7201a8"
             ],
             [
              0.3333333333333333,
              "#9c179e"
             ],
             [
              0.4444444444444444,
              "#bd3786"
             ],
             [
              0.5555555555555556,
              "#d8576b"
             ],
             [
              0.6666666666666666,
              "#ed7953"
             ],
             [
              0.7777777777777778,
              "#fb9f3a"
             ],
             [
              0.8888888888888888,
              "#fdca26"
             ],
             [
              1,
              "#f0f921"
             ]
            ],
            "type": "surface"
           }
          ],
          "table": [
           {
            "cells": {
             "fill": {
              "color": "#EBF0F8"
             },
             "line": {
              "color": "white"
             }
            },
            "header": {
             "fill": {
              "color": "#C8D4E3"
             },
             "line": {
              "color": "white"
             }
            },
            "type": "table"
           }
          ]
         },
         "layout": {
          "annotationdefaults": {
           "arrowcolor": "#2a3f5f",
           "arrowhead": 0,
           "arrowwidth": 1
          },
          "autotypenumbers": "strict",
          "coloraxis": {
           "colorbar": {
            "outlinewidth": 0,
            "ticks": ""
           }
          },
          "colorscale": {
           "diverging": [
            [
             0,
             "#8e0152"
            ],
            [
             0.1,
             "#c51b7d"
            ],
            [
             0.2,
             "#de77ae"
            ],
            [
             0.3,
             "#f1b6da"
            ],
            [
             0.4,
             "#fde0ef"
            ],
            [
             0.5,
             "#f7f7f7"
            ],
            [
             0.6,
             "#e6f5d0"
            ],
            [
             0.7,
             "#b8e186"
            ],
            [
             0.8,
             "#7fbc41"
            ],
            [
             0.9,
             "#4d9221"
            ],
            [
             1,
             "#276419"
            ]
           ],
           "sequential": [
            [
             0,
             "#0d0887"
            ],
            [
             0.1111111111111111,
             "#46039f"
            ],
            [
             0.2222222222222222,
             "#7201a8"
            ],
            [
             0.3333333333333333,
             "#9c179e"
            ],
            [
             0.4444444444444444,
             "#bd3786"
            ],
            [
             0.5555555555555556,
             "#d8576b"
            ],
            [
             0.6666666666666666,
             "#ed7953"
            ],
            [
             0.7777777777777778,
             "#fb9f3a"
            ],
            [
             0.8888888888888888,
             "#fdca26"
            ],
            [
             1,
             "#f0f921"
            ]
           ],
           "sequentialminus": [
            [
             0,
             "#0d0887"
            ],
            [
             0.1111111111111111,
             "#46039f"
            ],
            [
             0.2222222222222222,
             "#7201a8"
            ],
            [
             0.3333333333333333,
             "#9c179e"
            ],
            [
             0.4444444444444444,
             "#bd3786"
            ],
            [
             0.5555555555555556,
             "#d8576b"
            ],
            [
             0.6666666666666666,
             "#ed7953"
            ],
            [
             0.7777777777777778,
             "#fb9f3a"
            ],
            [
             0.8888888888888888,
             "#fdca26"
            ],
            [
             1,
             "#f0f921"
            ]
           ]
          },
          "colorway": [
           "#636efa",
           "#EF553B",
           "#00cc96",
           "#ab63fa",
           "#FFA15A",
           "#19d3f3",
           "#FF6692",
           "#B6E880",
           "#FF97FF",
           "#FECB52"
          ],
          "font": {
           "color": "#2a3f5f"
          },
          "geo": {
           "bgcolor": "white",
           "lakecolor": "white",
           "landcolor": "#E5ECF6",
           "showlakes": true,
           "showland": true,
           "subunitcolor": "white"
          },
          "hoverlabel": {
           "align": "left"
          },
          "hovermode": "closest",
          "mapbox": {
           "style": "light"
          },
          "paper_bgcolor": "white",
          "plot_bgcolor": "#E5ECF6",
          "polar": {
           "angularaxis": {
            "gridcolor": "white",
            "linecolor": "white",
            "ticks": ""
           },
           "bgcolor": "#E5ECF6",
           "radialaxis": {
            "gridcolor": "white",
            "linecolor": "white",
            "ticks": ""
           }
          },
          "scene": {
           "xaxis": {
            "backgroundcolor": "#E5ECF6",
            "gridcolor": "white",
            "gridwidth": 2,
            "linecolor": "white",
            "showbackground": true,
            "ticks": "",
            "zerolinecolor": "white"
           },
           "yaxis": {
            "backgroundcolor": "#E5ECF6",
            "gridcolor": "white",
            "gridwidth": 2,
            "linecolor": "white",
            "showbackground": true,
            "ticks": "",
            "zerolinecolor": "white"
           },
           "zaxis": {
            "backgroundcolor": "#E5ECF6",
            "gridcolor": "white",
            "gridwidth": 2,
            "linecolor": "white",
            "showbackground": true,
            "ticks": "",
            "zerolinecolor": "white"
           }
          },
          "shapedefaults": {
           "line": {
            "color": "#2a3f5f"
           }
          },
          "ternary": {
           "aaxis": {
            "gridcolor": "white",
            "linecolor": "white",
            "ticks": ""
           },
           "baxis": {
            "gridcolor": "white",
            "linecolor": "white",
            "ticks": ""
           },
           "bgcolor": "#E5ECF6",
           "caxis": {
            "gridcolor": "white",
            "linecolor": "white",
            "ticks": ""
           }
          },
          "title": {
           "x": 0.05
          },
          "xaxis": {
           "automargin": true,
           "gridcolor": "white",
           "linecolor": "white",
           "ticks": "",
           "title": {
            "standoff": 15
           },
           "zerolinecolor": "white",
           "zerolinewidth": 2
          },
          "yaxis": {
           "automargin": true,
           "gridcolor": "white",
           "linecolor": "white",
           "ticks": "",
           "title": {
            "standoff": 15
           },
           "zerolinecolor": "white",
           "zerolinewidth": 2
          }
         }
        }
       }
      }
     },
     "metadata": {},
     "output_type": "display_data"
    }
   ],
   "source": [
    "# px.scatter_3d(plot_data, \"x_1\", \"y_1\", \"z_1\")\n",
    "px.line_3d(plot_data, \"x_1\", \"y_1\", \"z_1\", markers=\"o\",hover_data=[\"resname\", \"resid\"])"
   ]
  },
  {
   "cell_type": "code",
   "execution_count": null,
   "metadata": {},
   "outputs": [
    {
     "data": {
      "image/png": "[encoded data removed]",
      "text/plain": [
       "<Figure size 640x480 with 1 Axes>"
      ]
     },
     "metadata": {},
     "output_type": "display_data"
    }
   ],
   "source": [
    "fig = plt.figure()\n",
    "ax = fig.add_subplot(projection='3d')\n",
    "ax.scatter(plot_data[\"x_1\"], plot_data[\"y_1\"], plot_data[\"z_1\"])\n",
    "plt.show()"
   ]
  }
 ],
 "metadata": {
  "kernelspec": {
   "display_name": "Python 3",
   "language": "python",
   "name": "python3"
  },
  "language_info": {
   "codemirror_mode": {
    "name": "ipython",
    "version": 3
   },
   "file_extension": ".py",
   "mimetype": "text/x-python",
   "name": "python",
   "nbconvert_exporter": "python",
   "pygments_lexer": "ipython3",
   "version": "3.13.2"
  }
 },
 "nbformat": 4,
 "nbformat_minor": 2
}
