{
 "cells": [
  {
   "cell_type": "code",
   "execution_count": 1,
   "metadata": {},
   "outputs": [],
   "source": [
    "import pandas as pd\n",
    "import matplotlib.pyplot as plt\n",
    "import plotly.express as px\n",
    "import torch\n",
    "import torch.nn as nn\n",
    "import torch.optim as optim\n",
    "from sklearn.preprocessing import OneHotEncoder\n",
    "import joblib"
   ]
  },
  {
   "cell_type": "code",
   "execution_count": 2,
   "metadata": {},
   "outputs": [
    {
     "data": {
      "text/plain": [
       "((692, 5), (152, 5))"
      ]
     },
     "execution_count": 2,
     "metadata": {},
     "output_type": "execute_result"
    }
   ],
   "source": [
    "df = pd.read_csv('train_sequences.csv')\n",
    "df[df['temporal_cutoff'] <= '2022-05-27'].shape, df[df['temporal_cutoff'] > '2022-05-27'].shape"
   ]
  },
  {
   "cell_type": "code",
   "execution_count": null,
   "metadata": {},
   "outputs": [],
   "source": []
  },
  {
   "cell_type": "markdown",
   "metadata": {},
   "source": [
    "# Criacao da base de dados"
   ]
  },
  {
   "cell_type": "code",
   "execution_count": 32,
   "metadata": {},
   "outputs": [],
   "source": [
    "def monta_base(sequencias, labels, define_encoder = False):\n",
    "    base_seqs = pd.read_csv(sequencias)\n",
    "    base_labels = pd.read_csv(labels)\n",
    "\n",
    "    base_seqs[\"resname\"] = base_seqs[\"sequence\"].apply(lambda x: list(x))\n",
    "    base_seqs = base_seqs[[\"target_id\", \"sequence\", \"resname\"]].explode(\"resname\", ignore_index=True)\n",
    "    base_seqs[\"resid\"] = base_seqs.groupby(\"target_id\").cumcount() + 1\n",
    "    base_seqs[\"target_num\"] = base_seqs[\"target_id\"] + \"_\" + base_seqs[\"resid\"].astype(str)\n",
    "    \n",
    "    base_set = pd.merge(base_seqs[[\"target_num\", \"sequence\", 'target_id']], base_labels, left_on=\"target_num\", right_on=\"ID\").drop(\"target_num\", axis=1)\n",
    "\n",
    "\n",
    "    base_set = base_set.dropna(how='any', axis=0).reset_index().drop('index', axis=1)\n",
    "\n",
    "    base_set['first'] = (base_set['ID'] == base_set['ID'].iloc[0]).astype(int)\n",
    "    base_set['last'] = (base_set['ID'] == base_set['ID'].iloc[-1]).astype(int)\n",
    "    base_set = base_set.sort_values(by=['target_id', 'resid'])\n",
    "    base_set['lead1'] = base_set['resname'].shift(-1)\n",
    "    base_set['lead2'] = base_set['resname'].shift(-2)\n",
    "    base_set['lead3'] = base_set['resname'].shift(-3)\n",
    "    base_set['lag1'] = base_set['resname'].shift(1)\n",
    "    base_set['lag2'] = base_set['resname'].shift(2)\n",
    "    base_set['lag3'] = base_set['resname'].shift(3)\n",
    "    base_set['lag_coord_x'] = base_set['x_1'].shift(1).fillna(0)\n",
    "    base_set['lag_coord_y'] = base_set['y_1'].shift(1).fillna(0)\n",
    "    base_set['lag_coord_z'] = base_set['z_1'].shift(1).fillna(0)\n",
    "\n",
    "\n",
    "    colunas_one_hot = ['resname', 'lead1', 'lead2', 'lead3', 'lag1', 'lag2', 'lag3']\n",
    "    df_one_hot = base_set[colunas_one_hot]\n",
    "    df_one_hot['ID'] = '0'\n",
    "    colunas_one_hot.append('ID')\n",
    "\n",
    "    if define_encoder:\n",
    "        enc = OneHotEncoder(handle_unknown='ignore')\n",
    "        codificados = enc.fit(df_one_hot)\n",
    "        joblib.dump(enc, \"onehot_encoder.pkl\")\n",
    "\n",
    "        \n",
    "    enc = joblib.load(\"onehot_encoder.pkl\")\n",
    "    codificados = enc.transform(df_one_hot).toarray()\n",
    "\n",
    "    renames = []\n",
    "    for coluna, cats in zip(colunas_one_hot, enc.categories_):\n",
    "        # print(coluna, cat)\n",
    "        for cat in cats:\n",
    "            if cat is None:\n",
    "                cat = 'None'\n",
    "            renames.append(coluna + '_' + cat)\n",
    "\n",
    "    codificados = pd.DataFrame(codificados, columns=renames).iloc[:, :-1]\n",
    "\n",
    "    base_set = pd.concat([base_set, codificados], axis=1)\n",
    "\n",
    "    cols = renames[:-1]\n",
    "    cols.extend(['first', 'last', 'lag_coord_x', 'lag_coord_y', 'lag_coord_z'])\n",
    "\n",
    "    X = base_set[cols].fillna(99)\n",
    "    y = base_set[['x_1', 'y_1', 'z_1']]\n",
    "\n",
    "    # base_modelo = pd.DataFrame({\n",
    "    #     'features': X.apply(tuple, axis=1),\n",
    "    #     'prev_coords': base_set[['lag_coord_x', 'lag_coord_y', 'lag_coord_z']].apply(tuple, axis=1),\n",
    "    #     'true_coords': y.apply(tuple, axis=1)\n",
    "    # })\n",
    "\n",
    "    return X, y, base_set"
   ]
  },
  {
   "cell_type": "code",
   "execution_count": 33,
   "metadata": {},
   "outputs": [
    {
     "name": "stderr",
     "output_type": "stream",
     "text": [
      "C:\\Users\\pedro\\AppData\\Local\\Temp\\ipykernel_19208\\2981791205.py:31: SettingWithCopyWarning: \n",
      "A value is trying to be set on a copy of a slice from a DataFrame.\n",
      "Try using .loc[row_indexer,col_indexer] = value instead\n",
      "\n",
      "See the caveats in the documentation: https://pandas.pydata.org/pandas-docs/stable/user_guide/indexing.html#returning-a-view-versus-a-copy\n",
      "  df_one_hot['ID'] = '0'\n",
      "C:\\Users\\pedro\\AppData\\Local\\Temp\\ipykernel_19208\\2981791205.py:31: SettingWithCopyWarning: \n",
      "A value is trying to be set on a copy of a slice from a DataFrame.\n",
      "Try using .loc[row_indexer,col_indexer] = value instead\n",
      "\n",
      "See the caveats in the documentation: https://pandas.pydata.org/pandas-docs/stable/user_guide/indexing.html#returning-a-view-versus-a-copy\n",
      "  df_one_hot['ID'] = '0'\n"
     ]
    }
   ],
   "source": [
    "X_train, y_train, base_total = monta_base(\"train_sequences.csv\", \"train_labels.csv\", False)\n",
    "X_val, y_val, _ = monta_base(\"validation_sequences.csv\", \"validation_labels.csv\", False)"
   ]
  },
  {
   "cell_type": "markdown",
   "metadata": {},
   "source": [
    "# Rede Neural"
   ]
  },
  {
   "cell_type": "code",
   "execution_count": 38,
   "metadata": {},
   "outputs": [],
   "source": [
    "import torch\n",
    "import torch.nn as nn\n",
    "import torch.optim as optim\n",
    "from torch.utils.data import Dataset, DataLoader\n",
    "import pandas as pd\n",
    "import numpy as np\n",
    "from sklearn.metrics import f1_score, roc_auc_score\n",
    "from tqdm import tqdm\n",
    "\n",
    "device = torch.device(\"cuda\" if torch.cuda.is_available() else \"cpu\")"
   ]
  },
  {
   "cell_type": "code",
   "execution_count": 40,
   "metadata": {},
   "outputs": [],
   "source": [
    "class RNA3DDataset_new(Dataset):\n",
    "    def __init__(self, X, Y):\n",
    "        self.X = torch.tensor(X, dtype=torch.float32).to(device)\n",
    "        self.Y = torch.tensor(Y, dtype=torch.float32).to(device)\n",
    "\n",
    "    def __len__(self):\n",
    "        return len(self.X)\n",
    "\n",
    "    def __getitem__(self, idx):\n",
    "        return self.X[idx], self.Y[idx]\n",
    "\n",
    "dataloader_train = torch.utils.data.DataLoader(RNA3DDataset_new(X_train.values, y_train.values), batch_size=32, shuffle=True)\n",
    "dataloader_val = torch.utils.data.DataLoader(RNA3DDataset_new(X_val.values, y_val.values), batch_size=32, shuffle=True)\n",
    "\n",
    "\n",
    "class RNA3DModel_new(nn.Module):\n",
    "    def __init__(self, input_size, hidden_size, output_size, num_layers=2):\n",
    "        super(RNA3DModel_new, self).__init__()\n",
    "        self.lstm = nn.LSTM(input_size, hidden_size, num_layers, batch_first=True)\n",
    "        self.fc = nn.Linear(hidden_size, output_size)\n",
    "\n",
    "    def forward(self, x):\n",
    "        x = x.unsqueeze(1)  # Garante que tem (batch, seq_len, input_size)\n",
    "        x, _ = self.lstm(x)\n",
    "        x = self.fc(x[:, -1, :])  # Última saída da sequência\n",
    "        return x\n"
   ]
  },
  {
   "cell_type": "code",
   "execution_count": 36,
   "metadata": {},
   "outputs": [],
   "source": [
    "def predict_sequence(model, X_initial, seq_length):\n",
    "    model.eval()\n",
    "    predictions = []\n",
    "    last_coord = np.array([0, 0, 0])  # Primeira entrada começa com (0,0,0)\n",
    "    \n",
    "    for i in range(seq_length):\n",
    "        X_input = np.hstack([X_initial[i], last_coord])  # Concatenando features + coord anterior\n",
    "        X_tensor = torch.tensor(X_input, dtype=torch.float32).unsqueeze(0).unsqueeze(0).to(device)\n",
    "\n",
    "        with torch.no_grad():\n",
    "            pred = model(X_tensor).cpu().numpy().flatten()\n",
    "        \n",
    "        predictions.append(pred)\n",
    "        last_coord = pred  # Atualiza para a próxima entrada\n",
    "    \n",
    "    return np.array(predictions)\n"
   ]
  },
  {
   "cell_type": "code",
   "execution_count": null,
   "metadata": {},
   "outputs": [],
   "source": [
    "\n",
    "# Função de treinamento\n",
    "def train_model(model, criterion, optimizer, dataloaders, dataset_sizes, scheduler=None, num_epochs=25, patience=15):\n",
    "    best_loss = float('inf')\n",
    "    epochs_no_improve = 0\n",
    "    \n",
    "    for epoch in range(num_epochs):\n",
    "        print(f'Epoch {epoch}/{num_epochs - 1}')\n",
    "        print('-' * 10)\n",
    "        \n",
    "        for phase in ['train', 'val']:\n",
    "            is_train = phase == 'train'\n",
    "            model.train() if is_train else model.eval()\n",
    "            \n",
    "            running_loss = 0.0\n",
    "            progress_bar = tqdm(dataloaders[phase], desc=f'{phase.capitalize()}')\n",
    "            \n",
    "            for batch_X, batch_Y in progress_bar:\n",
    "                batch_X = batch_X.to(device, dtype=torch.float32)\n",
    "                batch_Y = batch_Y.to(device, dtype=torch.float32)\n",
    "                print(batch_X.shape)\n",
    "                with torch.set_grad_enabled(is_train):\n",
    "                    output = model(batch_X)\n",
    "                    loss = criterion(output, batch_Y)\n",
    "                    \n",
    "                    if is_train:\n",
    "                        optimizer.zero_grad()\n",
    "                        loss.backward()\n",
    "                        torch.nn.utils.clip_grad_norm_(model.parameters(), max_norm=1.0)\n",
    "                        optimizer.step()\n",
    "                    \n",
    "                running_loss += loss.item() * batch_X.size(0)\n",
    "                current_loss = running_loss / dataset_sizes[phase]\n",
    "                progress_bar.set_postfix({'loss': current_loss})\n",
    "            \n",
    "            epoch_loss = running_loss / dataset_sizes[phase]\n",
    "            print(f'{phase.capitalize()} Loss: {epoch_loss:.4f}')\n",
    "            \n",
    "            if phase == 'val' and scheduler:\n",
    "                scheduler.step(epoch_loss)\n",
    "            \n",
    "            if phase == 'val':\n",
    "                if epoch_loss < best_loss:\n",
    "                    best_loss = epoch_loss\n",
    "                    epochs_no_improve = 0\n",
    "                    torch.save(model.state_dict(), 'best_model.pt')\n",
    "                else:\n",
    "                    epochs_no_improve += 1\n",
    "        \n",
    "        if epochs_no_improve >= patience:\n",
    "            print(f'Early stopping! No improvement in validation loss for {patience} epochs.')\n",
    "            print(f'Best Loss: {best_loss}')\n",
    "            break\n",
    "    \n",
    "    return model\n",
    "\n",
    "# Criando DataLoaders e scheduler\n",
    "batch_size = 1\n",
    "fine_dataloaders = {\n",
    "    'train': dataloader_train,\n",
    "    'val': dataloader_val,\n",
    "}\n",
    "\n",
    "fine_dataset_sizes = {\n",
    "    'train': len(dataloader_train),\n",
    "    'val': len(dataloader_val)\n",
    "}\n",
    "\n",
    "# Instanciando o modelo\n",
    "model = RNA3DModel_new(input_size=46, hidden_size=64, output_size=3).to(device)\n",
    "\n",
    "# Função de perda e otimizador\n",
    "criterion = nn.MSELoss()\n",
    "optimizer = optim.Adam(model.parameters(), lr=0.001)\n",
    "\n",
    "\n",
    "l2_lambda = 0.3\n",
    "# optimizer = torch.optim.Adam(model.parameters(), lr=0.0001)#, weight_decay=l2_lambda)\n",
    "scheduler = torch.optim.lr_scheduler.ReduceLROnPlateau(optimizer, mode='min', factor=0.1, patience=30, verbose=True)\n",
    "\n",
    "# Treinando o modelo\n",
    "# model = train_model(model, criterion, optimizer, fine_dataloaders, fine_dataset_sizes, scheduler=scheduler, num_epochs=500, patience=500)\n"
   ]
  },
  {
   "cell_type": "code",
   "execution_count": 73,
   "metadata": {},
   "outputs": [],
   "source": [
    "torch.save(model.state_dict(), 'best_model.pt')"
   ]
  },
  {
   "cell_type": "code",
   "execution_count": 42,
   "metadata": {},
   "outputs": [
    {
     "data": {
      "text/plain": [
       "<All keys matched successfully>"
      ]
     },
     "execution_count": 42,
     "metadata": {},
     "output_type": "execute_result"
    }
   ],
   "source": [
    "model = RNA3DModel_new(input_size=46, hidden_size=64, output_size=3).to(device)\n",
    "model.load_state_dict(torch.load('best_model.pt'))"
   ]
  },
  {
   "cell_type": "code",
   "execution_count": 29,
   "metadata": {},
   "outputs": [
    {
     "data": {
      "text/html": [
       "<div>\n",
       "<style scoped>\n",
       "    .dataframe tbody tr th:only-of-type {\n",
       "        vertical-align: middle;\n",
       "    }\n",
       "\n",
       "    .dataframe tbody tr th {\n",
       "        vertical-align: top;\n",
       "    }\n",
       "\n",
       "    .dataframe thead th {\n",
       "        text-align: right;\n",
       "    }\n",
       "</style>\n",
       "<table border=\"1\" class=\"dataframe\">\n",
       "  <thead>\n",
       "    <tr style=\"text-align: right;\">\n",
       "      <th></th>\n",
       "      <th>sequence</th>\n",
       "      <th>target_id</th>\n",
       "      <th>ID</th>\n",
       "      <th>resname</th>\n",
       "      <th>resid</th>\n",
       "      <th>x_1</th>\n",
       "      <th>y_1</th>\n",
       "      <th>z_1</th>\n",
       "      <th>first</th>\n",
       "      <th>last</th>\n",
       "      <th>...</th>\n",
       "      <th>lag2_C</th>\n",
       "      <th>lag2_G</th>\n",
       "      <th>lag2_U</th>\n",
       "      <th>lag2_None</th>\n",
       "      <th>lag3_-</th>\n",
       "      <th>lag3_A</th>\n",
       "      <th>lag3_C</th>\n",
       "      <th>lag3_G</th>\n",
       "      <th>lag3_U</th>\n",
       "      <th>lag3_None</th>\n",
       "    </tr>\n",
       "  </thead>\n",
       "  <tbody>\n",
       "    <tr>\n",
       "      <th>1260</th>\n",
       "      <td>GGCGUAAGGAUUACCUAUGCC</td>\n",
       "      <td>17RA_A</td>\n",
       "      <td>17RA_A_1</td>\n",
       "      <td>G</td>\n",
       "      <td>1</td>\n",
       "      <td>35.856998</td>\n",
       "      <td>-10.769000</td>\n",
       "      <td>-7.548</td>\n",
       "      <td>0</td>\n",
       "      <td>0</td>\n",
       "      <td>...</td>\n",
       "      <td>1.0</td>\n",
       "      <td>0.0</td>\n",
       "      <td>0.0</td>\n",
       "      <td>0.0</td>\n",
       "      <td>0.0</td>\n",
       "      <td>0.0</td>\n",
       "      <td>1.0</td>\n",
       "      <td>0.0</td>\n",
       "      <td>0.0</td>\n",
       "      <td>0.0</td>\n",
       "    </tr>\n",
       "    <tr>\n",
       "      <th>1261</th>\n",
       "      <td>GGCGUAAGGAUUACCUAUGCC</td>\n",
       "      <td>17RA_A</td>\n",
       "      <td>17RA_A_2</td>\n",
       "      <td>G</td>\n",
       "      <td>2</td>\n",
       "      <td>30.230000</td>\n",
       "      <td>-12.075000</td>\n",
       "      <td>-8.614</td>\n",
       "      <td>0</td>\n",
       "      <td>0</td>\n",
       "      <td>...</td>\n",
       "      <td>0.0</td>\n",
       "      <td>1.0</td>\n",
       "      <td>0.0</td>\n",
       "      <td>0.0</td>\n",
       "      <td>0.0</td>\n",
       "      <td>0.0</td>\n",
       "      <td>1.0</td>\n",
       "      <td>0.0</td>\n",
       "      <td>0.0</td>\n",
       "      <td>0.0</td>\n",
       "    </tr>\n",
       "    <tr>\n",
       "      <th>1262</th>\n",
       "      <td>GGCGUAAGGAUUACCUAUGCC</td>\n",
       "      <td>17RA_A</td>\n",
       "      <td>17RA_A_3</td>\n",
       "      <td>C</td>\n",
       "      <td>3</td>\n",
       "      <td>23.968000</td>\n",
       "      <td>-11.356000</td>\n",
       "      <td>-7.690</td>\n",
       "      <td>0</td>\n",
       "      <td>0</td>\n",
       "      <td>...</td>\n",
       "      <td>0.0</td>\n",
       "      <td>0.0</td>\n",
       "      <td>0.0</td>\n",
       "      <td>0.0</td>\n",
       "      <td>0.0</td>\n",
       "      <td>0.0</td>\n",
       "      <td>0.0</td>\n",
       "      <td>1.0</td>\n",
       "      <td>0.0</td>\n",
       "      <td>0.0</td>\n",
       "    </tr>\n",
       "    <tr>\n",
       "      <th>1263</th>\n",
       "      <td>GGCGUAAGGAUUACCUAUGCC</td>\n",
       "      <td>17RA_A</td>\n",
       "      <td>17RA_A_4</td>\n",
       "      <td>G</td>\n",
       "      <td>4</td>\n",
       "      <td>19.296000</td>\n",
       "      <td>-9.874000</td>\n",
       "      <td>-4.778</td>\n",
       "      <td>0</td>\n",
       "      <td>0</td>\n",
       "      <td>...</td>\n",
       "      <td>0.0</td>\n",
       "      <td>0.0</td>\n",
       "      <td>0.0</td>\n",
       "      <td>0.0</td>\n",
       "      <td>0.0</td>\n",
       "      <td>1.0</td>\n",
       "      <td>0.0</td>\n",
       "      <td>0.0</td>\n",
       "      <td>0.0</td>\n",
       "      <td>0.0</td>\n",
       "    </tr>\n",
       "    <tr>\n",
       "      <th>1264</th>\n",
       "      <td>GGCGUAAGGAUUACCUAUGCC</td>\n",
       "      <td>17RA_A</td>\n",
       "      <td>17RA_A_5</td>\n",
       "      <td>U</td>\n",
       "      <td>5</td>\n",
       "      <td>16.362000</td>\n",
       "      <td>-6.047000</td>\n",
       "      <td>-0.706</td>\n",
       "      <td>0</td>\n",
       "      <td>0</td>\n",
       "      <td>...</td>\n",
       "      <td>0.0</td>\n",
       "      <td>0.0</td>\n",
       "      <td>0.0</td>\n",
       "      <td>0.0</td>\n",
       "      <td>0.0</td>\n",
       "      <td>1.0</td>\n",
       "      <td>0.0</td>\n",
       "      <td>0.0</td>\n",
       "      <td>0.0</td>\n",
       "      <td>0.0</td>\n",
       "    </tr>\n",
       "    <tr>\n",
       "      <th>1265</th>\n",
       "      <td>GGCGUAAGGAUUACCUAUGCC</td>\n",
       "      <td>17RA_A</td>\n",
       "      <td>17RA_A_6</td>\n",
       "      <td>A</td>\n",
       "      <td>6</td>\n",
       "      <td>15.636000</td>\n",
       "      <td>-1.549000</td>\n",
       "      <td>2.463</td>\n",
       "      <td>0</td>\n",
       "      <td>0</td>\n",
       "      <td>...</td>\n",
       "      <td>0.0</td>\n",
       "      <td>0.0</td>\n",
       "      <td>1.0</td>\n",
       "      <td>0.0</td>\n",
       "      <td>0.0</td>\n",
       "      <td>1.0</td>\n",
       "      <td>0.0</td>\n",
       "      <td>0.0</td>\n",
       "      <td>0.0</td>\n",
       "      <td>0.0</td>\n",
       "    </tr>\n",
       "    <tr>\n",
       "      <th>1266</th>\n",
       "      <td>GGCGUAAGGAUUACCUAUGCC</td>\n",
       "      <td>17RA_A</td>\n",
       "      <td>17RA_A_7</td>\n",
       "      <td>A</td>\n",
       "      <td>7</td>\n",
       "      <td>16.969999</td>\n",
       "      <td>2.893000</td>\n",
       "      <td>4.626</td>\n",
       "      <td>0</td>\n",
       "      <td>0</td>\n",
       "      <td>...</td>\n",
       "      <td>1.0</td>\n",
       "      <td>0.0</td>\n",
       "      <td>0.0</td>\n",
       "      <td>0.0</td>\n",
       "      <td>0.0</td>\n",
       "      <td>0.0</td>\n",
       "      <td>0.0</td>\n",
       "      <td>0.0</td>\n",
       "      <td>1.0</td>\n",
       "      <td>0.0</td>\n",
       "    </tr>\n",
       "    <tr>\n",
       "      <th>1267</th>\n",
       "      <td>GGCGUAAGGAUUACCUAUGCC</td>\n",
       "      <td>17RA_A</td>\n",
       "      <td>17RA_A_8</td>\n",
       "      <td>G</td>\n",
       "      <td>8</td>\n",
       "      <td>20.391001</td>\n",
       "      <td>6.862000</td>\n",
       "      <td>5.549</td>\n",
       "      <td>0</td>\n",
       "      <td>0</td>\n",
       "      <td>...</td>\n",
       "      <td>1.0</td>\n",
       "      <td>0.0</td>\n",
       "      <td>0.0</td>\n",
       "      <td>0.0</td>\n",
       "      <td>0.0</td>\n",
       "      <td>0.0</td>\n",
       "      <td>1.0</td>\n",
       "      <td>0.0</td>\n",
       "      <td>0.0</td>\n",
       "      <td>0.0</td>\n",
       "    </tr>\n",
       "    <tr>\n",
       "      <th>1268</th>\n",
       "      <td>GGCGUAAGGAUUACCUAUGCC</td>\n",
       "      <td>17RA_A</td>\n",
       "      <td>17RA_A_9</td>\n",
       "      <td>G</td>\n",
       "      <td>9</td>\n",
       "      <td>24.370001</td>\n",
       "      <td>9.630000</td>\n",
       "      <td>3.348</td>\n",
       "      <td>0</td>\n",
       "      <td>0</td>\n",
       "      <td>...</td>\n",
       "      <td>1.0</td>\n",
       "      <td>0.0</td>\n",
       "      <td>0.0</td>\n",
       "      <td>0.0</td>\n",
       "      <td>0.0</td>\n",
       "      <td>0.0</td>\n",
       "      <td>1.0</td>\n",
       "      <td>0.0</td>\n",
       "      <td>0.0</td>\n",
       "      <td>0.0</td>\n",
       "    </tr>\n",
       "    <tr>\n",
       "      <th>1269</th>\n",
       "      <td>GGCGUAAGGAUUACCUAUGCC</td>\n",
       "      <td>17RA_A</td>\n",
       "      <td>17RA_A_10</td>\n",
       "      <td>A</td>\n",
       "      <td>10</td>\n",
       "      <td>26.341999</td>\n",
       "      <td>12.365000</td>\n",
       "      <td>-0.594</td>\n",
       "      <td>0</td>\n",
       "      <td>0</td>\n",
       "      <td>...</td>\n",
       "      <td>0.0</td>\n",
       "      <td>1.0</td>\n",
       "      <td>0.0</td>\n",
       "      <td>0.0</td>\n",
       "      <td>0.0</td>\n",
       "      <td>0.0</td>\n",
       "      <td>1.0</td>\n",
       "      <td>0.0</td>\n",
       "      <td>0.0</td>\n",
       "      <td>0.0</td>\n",
       "    </tr>\n",
       "    <tr>\n",
       "      <th>1270</th>\n",
       "      <td>GGCGUAAGGAUUACCUAUGCC</td>\n",
       "      <td>17RA_A</td>\n",
       "      <td>17RA_A_11</td>\n",
       "      <td>U</td>\n",
       "      <td>11</td>\n",
       "      <td>23.917999</td>\n",
       "      <td>16.023001</td>\n",
       "      <td>-5.418</td>\n",
       "      <td>0</td>\n",
       "      <td>0</td>\n",
       "      <td>...</td>\n",
       "      <td>0.0</td>\n",
       "      <td>0.0</td>\n",
       "      <td>0.0</td>\n",
       "      <td>0.0</td>\n",
       "      <td>0.0</td>\n",
       "      <td>0.0</td>\n",
       "      <td>0.0</td>\n",
       "      <td>1.0</td>\n",
       "      <td>0.0</td>\n",
       "      <td>0.0</td>\n",
       "    </tr>\n",
       "    <tr>\n",
       "      <th>1271</th>\n",
       "      <td>GGCGUAAGGAUUACCUAUGCC</td>\n",
       "      <td>17RA_A</td>\n",
       "      <td>17RA_A_12</td>\n",
       "      <td>U</td>\n",
       "      <td>12</td>\n",
       "      <td>24.938000</td>\n",
       "      <td>15.565000</td>\n",
       "      <td>-11.243</td>\n",
       "      <td>0</td>\n",
       "      <td>0</td>\n",
       "      <td>...</td>\n",
       "      <td>0.0</td>\n",
       "      <td>0.0</td>\n",
       "      <td>0.0</td>\n",
       "      <td>0.0</td>\n",
       "      <td>0.0</td>\n",
       "      <td>1.0</td>\n",
       "      <td>0.0</td>\n",
       "      <td>0.0</td>\n",
       "      <td>0.0</td>\n",
       "      <td>0.0</td>\n",
       "    </tr>\n",
       "    <tr>\n",
       "      <th>1272</th>\n",
       "      <td>GGCGUAAGGAUUACCUAUGCC</td>\n",
       "      <td>17RA_A</td>\n",
       "      <td>17RA_A_13</td>\n",
       "      <td>A</td>\n",
       "      <td>13</td>\n",
       "      <td>25.587999</td>\n",
       "      <td>10.095000</td>\n",
       "      <td>-10.004</td>\n",
       "      <td>0</td>\n",
       "      <td>0</td>\n",
       "      <td>...</td>\n",
       "      <td>0.0</td>\n",
       "      <td>1.0</td>\n",
       "      <td>0.0</td>\n",
       "      <td>0.0</td>\n",
       "      <td>0.0</td>\n",
       "      <td>1.0</td>\n",
       "      <td>0.0</td>\n",
       "      <td>0.0</td>\n",
       "      <td>0.0</td>\n",
       "      <td>0.0</td>\n",
       "    </tr>\n",
       "    <tr>\n",
       "      <th>1273</th>\n",
       "      <td>GGCGUAAGGAUUACCUAUGCC</td>\n",
       "      <td>17RA_A</td>\n",
       "      <td>17RA_A_14</td>\n",
       "      <td>C</td>\n",
       "      <td>14</td>\n",
       "      <td>28.333000</td>\n",
       "      <td>7.804000</td>\n",
       "      <td>-6.255</td>\n",
       "      <td>0</td>\n",
       "      <td>0</td>\n",
       "      <td>...</td>\n",
       "      <td>0.0</td>\n",
       "      <td>0.0</td>\n",
       "      <td>1.0</td>\n",
       "      <td>0.0</td>\n",
       "      <td>0.0</td>\n",
       "      <td>0.0</td>\n",
       "      <td>0.0</td>\n",
       "      <td>1.0</td>\n",
       "      <td>0.0</td>\n",
       "      <td>0.0</td>\n",
       "    </tr>\n",
       "    <tr>\n",
       "      <th>1274</th>\n",
       "      <td>GGCGUAAGGAUUACCUAUGCC</td>\n",
       "      <td>17RA_A</td>\n",
       "      <td>17RA_A_15</td>\n",
       "      <td>C</td>\n",
       "      <td>15</td>\n",
       "      <td>28.948999</td>\n",
       "      <td>4.836000</td>\n",
       "      <td>-0.756</td>\n",
       "      <td>0</td>\n",
       "      <td>0</td>\n",
       "      <td>...</td>\n",
       "      <td>0.0</td>\n",
       "      <td>0.0</td>\n",
       "      <td>0.0</td>\n",
       "      <td>0.0</td>\n",
       "      <td>0.0</td>\n",
       "      <td>0.0</td>\n",
       "      <td>0.0</td>\n",
       "      <td>0.0</td>\n",
       "      <td>1.0</td>\n",
       "      <td>0.0</td>\n",
       "    </tr>\n",
       "    <tr>\n",
       "      <th>1275</th>\n",
       "      <td>GGCGUAAGGAUUACCUAUGCC</td>\n",
       "      <td>17RA_A</td>\n",
       "      <td>17RA_A_16</td>\n",
       "      <td>U</td>\n",
       "      <td>16</td>\n",
       "      <td>26.749001</td>\n",
       "      <td>1.390000</td>\n",
       "      <td>3.287</td>\n",
       "      <td>0</td>\n",
       "      <td>0</td>\n",
       "      <td>...</td>\n",
       "      <td>0.0</td>\n",
       "      <td>1.0</td>\n",
       "      <td>0.0</td>\n",
       "      <td>0.0</td>\n",
       "      <td>0.0</td>\n",
       "      <td>1.0</td>\n",
       "      <td>0.0</td>\n",
       "      <td>0.0</td>\n",
       "      <td>0.0</td>\n",
       "      <td>0.0</td>\n",
       "    </tr>\n",
       "    <tr>\n",
       "      <th>1276</th>\n",
       "      <td>GGCGUAAGGAUUACCUAUGCC</td>\n",
       "      <td>17RA_A</td>\n",
       "      <td>17RA_A_17</td>\n",
       "      <td>A</td>\n",
       "      <td>17</td>\n",
       "      <td>24.118999</td>\n",
       "      <td>-2.821000</td>\n",
       "      <td>6.026</td>\n",
       "      <td>0</td>\n",
       "      <td>0</td>\n",
       "      <td>...</td>\n",
       "      <td>0.0</td>\n",
       "      <td>1.0</td>\n",
       "      <td>0.0</td>\n",
       "      <td>0.0</td>\n",
       "      <td>0.0</td>\n",
       "      <td>0.0</td>\n",
       "      <td>0.0</td>\n",
       "      <td>1.0</td>\n",
       "      <td>0.0</td>\n",
       "      <td>0.0</td>\n",
       "    </tr>\n",
       "    <tr>\n",
       "      <th>1277</th>\n",
       "      <td>GGCGUAAGGAUUACCUAUGCC</td>\n",
       "      <td>17RA_A</td>\n",
       "      <td>17RA_A_18</td>\n",
       "      <td>U</td>\n",
       "      <td>18</td>\n",
       "      <td>22.771000</td>\n",
       "      <td>-7.665000</td>\n",
       "      <td>5.355</td>\n",
       "      <td>0</td>\n",
       "      <td>0</td>\n",
       "      <td>...</td>\n",
       "      <td>1.0</td>\n",
       "      <td>0.0</td>\n",
       "      <td>0.0</td>\n",
       "      <td>0.0</td>\n",
       "      <td>0.0</td>\n",
       "      <td>0.0</td>\n",
       "      <td>0.0</td>\n",
       "      <td>1.0</td>\n",
       "      <td>0.0</td>\n",
       "      <td>0.0</td>\n",
       "    </tr>\n",
       "    <tr>\n",
       "      <th>1278</th>\n",
       "      <td>GGCGUAAGGAUUACCUAUGCC</td>\n",
       "      <td>17RA_A</td>\n",
       "      <td>17RA_A_19</td>\n",
       "      <td>G</td>\n",
       "      <td>19</td>\n",
       "      <td>22.330000</td>\n",
       "      <td>-13.626000</td>\n",
       "      <td>3.107</td>\n",
       "      <td>0</td>\n",
       "      <td>0</td>\n",
       "      <td>...</td>\n",
       "      <td>1.0</td>\n",
       "      <td>0.0</td>\n",
       "      <td>0.0</td>\n",
       "      <td>0.0</td>\n",
       "      <td>0.0</td>\n",
       "      <td>0.0</td>\n",
       "      <td>1.0</td>\n",
       "      <td>0.0</td>\n",
       "      <td>0.0</td>\n",
       "      <td>0.0</td>\n",
       "    </tr>\n",
       "    <tr>\n",
       "      <th>1279</th>\n",
       "      <td>GGCGUAAGGAUUACCUAUGCC</td>\n",
       "      <td>17RA_A</td>\n",
       "      <td>17RA_A_20</td>\n",
       "      <td>C</td>\n",
       "      <td>20</td>\n",
       "      <td>25.372999</td>\n",
       "      <td>-17.356001</td>\n",
       "      <td>-0.293</td>\n",
       "      <td>0</td>\n",
       "      <td>0</td>\n",
       "      <td>...</td>\n",
       "      <td>0.0</td>\n",
       "      <td>0.0</td>\n",
       "      <td>1.0</td>\n",
       "      <td>0.0</td>\n",
       "      <td>0.0</td>\n",
       "      <td>0.0</td>\n",
       "      <td>1.0</td>\n",
       "      <td>0.0</td>\n",
       "      <td>0.0</td>\n",
       "      <td>0.0</td>\n",
       "    </tr>\n",
       "    <tr>\n",
       "      <th>1280</th>\n",
       "      <td>GGCGUAAGGAUUACCUAUGCC</td>\n",
       "      <td>17RA_A</td>\n",
       "      <td>17RA_A_21</td>\n",
       "      <td>C</td>\n",
       "      <td>21</td>\n",
       "      <td>29.962000</td>\n",
       "      <td>-19.025000</td>\n",
       "      <td>-3.309</td>\n",
       "      <td>0</td>\n",
       "      <td>0</td>\n",
       "      <td>...</td>\n",
       "      <td>1.0</td>\n",
       "      <td>0.0</td>\n",
       "      <td>0.0</td>\n",
       "      <td>0.0</td>\n",
       "      <td>0.0</td>\n",
       "      <td>0.0</td>\n",
       "      <td>0.0</td>\n",
       "      <td>0.0</td>\n",
       "      <td>1.0</td>\n",
       "      <td>0.0</td>\n",
       "    </tr>\n",
       "  </tbody>\n",
       "</table>\n",
       "<p>21 rows × 60 columns</p>\n",
       "</div>"
      ],
      "text/plain": [
       "                   sequence target_id         ID resname  resid        x_1  \\\n",
       "1260  GGCGUAAGGAUUACCUAUGCC    17RA_A   17RA_A_1       G      1  35.856998   \n",
       "1261  GGCGUAAGGAUUACCUAUGCC    17RA_A   17RA_A_2       G      2  30.230000   \n",
       "1262  GGCGUAAGGAUUACCUAUGCC    17RA_A   17RA_A_3       C      3  23.968000   \n",
       "1263  GGCGUAAGGAUUACCUAUGCC    17RA_A   17RA_A_4       G      4  19.296000   \n",
       "1264  GGCGUAAGGAUUACCUAUGCC    17RA_A   17RA_A_5       U      5  16.362000   \n",
       "1265  GGCGUAAGGAUUACCUAUGCC    17RA_A   17RA_A_6       A      6  15.636000   \n",
       "1266  GGCGUAAGGAUUACCUAUGCC    17RA_A   17RA_A_7       A      7  16.969999   \n",
       "1267  GGCGUAAGGAUUACCUAUGCC    17RA_A   17RA_A_8       G      8  20.391001   \n",
       "1268  GGCGUAAGGAUUACCUAUGCC    17RA_A   17RA_A_9       G      9  24.370001   \n",
       "1269  GGCGUAAGGAUUACCUAUGCC    17RA_A  17RA_A_10       A     10  26.341999   \n",
       "1270  GGCGUAAGGAUUACCUAUGCC    17RA_A  17RA_A_11       U     11  23.917999   \n",
       "1271  GGCGUAAGGAUUACCUAUGCC    17RA_A  17RA_A_12       U     12  24.938000   \n",
       "1272  GGCGUAAGGAUUACCUAUGCC    17RA_A  17RA_A_13       A     13  25.587999   \n",
       "1273  GGCGUAAGGAUUACCUAUGCC    17RA_A  17RA_A_14       C     14  28.333000   \n",
       "1274  GGCGUAAGGAUUACCUAUGCC    17RA_A  17RA_A_15       C     15  28.948999   \n",
       "1275  GGCGUAAGGAUUACCUAUGCC    17RA_A  17RA_A_16       U     16  26.749001   \n",
       "1276  GGCGUAAGGAUUACCUAUGCC    17RA_A  17RA_A_17       A     17  24.118999   \n",
       "1277  GGCGUAAGGAUUACCUAUGCC    17RA_A  17RA_A_18       U     18  22.771000   \n",
       "1278  GGCGUAAGGAUUACCUAUGCC    17RA_A  17RA_A_19       G     19  22.330000   \n",
       "1279  GGCGUAAGGAUUACCUAUGCC    17RA_A  17RA_A_20       C     20  25.372999   \n",
       "1280  GGCGUAAGGAUUACCUAUGCC    17RA_A  17RA_A_21       C     21  29.962000   \n",
       "\n",
       "            y_1     z_1  first  last  ... lag2_C lag2_G lag2_U lag2_None  \\\n",
       "1260 -10.769000  -7.548      0     0  ...    1.0    0.0    0.0       0.0   \n",
       "1261 -12.075000  -8.614      0     0  ...    0.0    1.0    0.0       0.0   \n",
       "1262 -11.356000  -7.690      0     0  ...    0.0    0.0    0.0       0.0   \n",
       "1263  -9.874000  -4.778      0     0  ...    0.0    0.0    0.0       0.0   \n",
       "1264  -6.047000  -0.706      0     0  ...    0.0    0.0    0.0       0.0   \n",
       "1265  -1.549000   2.463      0     0  ...    0.0    0.0    1.0       0.0   \n",
       "1266   2.893000   4.626      0     0  ...    1.0    0.0    0.0       0.0   \n",
       "1267   6.862000   5.549      0     0  ...    1.0    0.0    0.0       0.0   \n",
       "1268   9.630000   3.348      0     0  ...    1.0    0.0    0.0       0.0   \n",
       "1269  12.365000  -0.594      0     0  ...    0.0    1.0    0.0       0.0   \n",
       "1270  16.023001  -5.418      0     0  ...    0.0    0.0    0.0       0.0   \n",
       "1271  15.565000 -11.243      0     0  ...    0.0    0.0    0.0       0.0   \n",
       "1272  10.095000 -10.004      0     0  ...    0.0    1.0    0.0       0.0   \n",
       "1273   7.804000  -6.255      0     0  ...    0.0    0.0    1.0       0.0   \n",
       "1274   4.836000  -0.756      0     0  ...    0.0    0.0    0.0       0.0   \n",
       "1275   1.390000   3.287      0     0  ...    0.0    1.0    0.0       0.0   \n",
       "1276  -2.821000   6.026      0     0  ...    0.0    1.0    0.0       0.0   \n",
       "1277  -7.665000   5.355      0     0  ...    1.0    0.0    0.0       0.0   \n",
       "1278 -13.626000   3.107      0     0  ...    1.0    0.0    0.0       0.0   \n",
       "1279 -17.356001  -0.293      0     0  ...    0.0    0.0    1.0       0.0   \n",
       "1280 -19.025000  -3.309      0     0  ...    1.0    0.0    0.0       0.0   \n",
       "\n",
       "     lag3_- lag3_A  lag3_C  lag3_G  lag3_U  lag3_None  \n",
       "1260    0.0    0.0     1.0     0.0     0.0        0.0  \n",
       "1261    0.0    0.0     1.0     0.0     0.0        0.0  \n",
       "1262    0.0    0.0     0.0     1.0     0.0        0.0  \n",
       "1263    0.0    1.0     0.0     0.0     0.0        0.0  \n",
       "1264    0.0    1.0     0.0     0.0     0.0        0.0  \n",
       "1265    0.0    1.0     0.0     0.0     0.0        0.0  \n",
       "1266    0.0    0.0     0.0     0.0     1.0        0.0  \n",
       "1267    0.0    0.0     1.0     0.0     0.0        0.0  \n",
       "1268    0.0    0.0     1.0     0.0     0.0        0.0  \n",
       "1269    0.0    0.0     1.0     0.0     0.0        0.0  \n",
       "1270    0.0    0.0     0.0     1.0     0.0        0.0  \n",
       "1271    0.0    1.0     0.0     0.0     0.0        0.0  \n",
       "1272    0.0    1.0     0.0     0.0     0.0        0.0  \n",
       "1273    0.0    0.0     0.0     1.0     0.0        0.0  \n",
       "1274    0.0    0.0     0.0     0.0     1.0        0.0  \n",
       "1275    0.0    1.0     0.0     0.0     0.0        0.0  \n",
       "1276    0.0    0.0     0.0     1.0     0.0        0.0  \n",
       "1277    0.0    0.0     0.0     1.0     0.0        0.0  \n",
       "1278    0.0    0.0     1.0     0.0     0.0        0.0  \n",
       "1279    0.0    0.0     1.0     0.0     0.0        0.0  \n",
       "1280    0.0    0.0     0.0     0.0     1.0        0.0  \n",
       "\n",
       "[21 rows x 60 columns]"
      ]
     },
     "execution_count": 29,
     "metadata": {},
     "output_type": "execute_result"
    }
   ],
   "source": [
    "base_total.iloc[:21]"
   ]
  },
  {
   "cell_type": "code",
   "execution_count": 60,
   "metadata": {},
   "outputs": [],
   "source": [
    "def predict_sequence(model, X_initial, seq_length):\n",
    "    model.eval()\n",
    "    predictions = []\n",
    "    last_coord = np.array([0, 0, 0])  # Primeira entrada começa com (0,0,0)\n",
    "    \n",
    "    for i in range(seq_length):\n",
    "        X_input = np.hstack([X_initial[i], last_coord])  # Concatenando features + coord anterior\n",
    "        X_tensor = torch.tensor(X_input, dtype=torch.float32).unsqueeze(0).to(device)\n",
    "\n",
    "        with torch.no_grad():\n",
    "            pred = model(X_tensor).cpu().numpy().flatten()\n",
    "        \n",
    "        predictions.append(pred)\n",
    "        last_coord = pred  # Atualiza para a próxima entrada\n",
    "    \n",
    "    return np.array(predictions)"
   ]
  },
  {
   "cell_type": "code",
   "execution_count": 62,
   "metadata": {},
   "outputs": [],
   "source": [
    "coordenadas = predict_sequence(model, X_train.iloc[:21, :-3].values, 21)"
   ]
  },
  {
   "cell_type": "code",
   "execution_count": 74,
   "metadata": {},
   "outputs": [
    {
     "name": "stdout",
     "output_type": "stream",
     "text": [
      "TM-score: 0.1144\n"
     ]
    },
    {
     "name": "stderr",
     "output_type": "stream",
     "text": [
      "C:\\Users\\pedro\\AppData\\Local\\Temp\\ipykernel_19208\\3820338503.py:40: UserWarning: To copy construct from a tensor, it is recommended to use sourceTensor.clone().detach() or sourceTensor.clone().detach().requires_grad_(True), rather than torch.tensor(sourceTensor).\n",
      "  P = torch.tensor(P, dtype=torch.float32)\n",
      "C:\\Users\\pedro\\AppData\\Local\\Temp\\ipykernel_19208\\3820338503.py:41: UserWarning: To copy construct from a tensor, it is recommended to use sourceTensor.clone().detach() or sourceTensor.clone().detach().requires_grad_(True), rather than torch.tensor(sourceTensor).\n",
      "  Q = torch.tensor(Q, dtype=torch.float32)\n"
     ]
    }
   ],
   "source": [
    "import torch\n",
    "\n",
    "def compute_d0(L_ref):\n",
    "    if L_ref >= 30:\n",
    "        return 0.6 * (L_ref - 0.5) ** 0.5 - 2.5\n",
    "    elif L_ref < 12:\n",
    "        return 0.3\n",
    "    elif 12 <= L_ref <= 15:\n",
    "        return 0.4\n",
    "    elif 16 <= L_ref <= 19:\n",
    "        return 0.5\n",
    "    elif 20 <= L_ref <= 23:\n",
    "        return 0.6\n",
    "    else:  # 24 <= L_ref <= 29\n",
    "        return 0.7\n",
    "\n",
    "def kabsch_alignment(P, Q):\n",
    "    \"\"\"Aplica o algoritmo de Kabsch para alinhar P (predito) a Q (real).\"\"\"\n",
    "    # Centralizar os pontos no centro de massa\n",
    "    P_mean = P.mean()\n",
    "    Q_mean = Q.mean()\n",
    "    P_centered = P - P_mean\n",
    "    Q_centered = Q - Q_mean\n",
    "    \n",
    "    # Matriz de covariância\n",
    "    C = torch.matmul(P_centered.T, Q_centered)\n",
    "    \n",
    "    # Decomposição SVD para encontrar a melhor rotação\n",
    "    U, S, V = torch.svd(C)\n",
    "    d = torch.sign(torch.det(torch.matmul(V, U.T)))  # Ajuste para reflexão\n",
    "    U_rot = torch.matmul(V, torch.diag(torch.tensor([1, 1, d]))).matmul(U.T)\n",
    "    \n",
    "    # Aplicar rotação\n",
    "    P_aligned = torch.matmul(P_centered, U_rot) + Q_mean  # Transladar de volta\n",
    "    \n",
    "    return P_aligned\n",
    "\n",
    "def tm_score(L_ref, P, Q):\n",
    "    \"\"\"Calcula o TM-score entre a estrutura predita (P) e a referência (Q).\"\"\"\n",
    "    P = torch.tensor(P, dtype=torch.float32)\n",
    "    Q = torch.tensor(Q, dtype=torch.float32)\n",
    "    P_aligned = kabsch_alignment(P, Q)  # Alinhar estruturas\n",
    "    d0 = compute_d0(L_ref)\n",
    "    \n",
    "    # Distância entre os pontos alinhados\n",
    "    distances = torch.norm(P_aligned - Q, dim=1)\n",
    "    \n",
    "    # Calcular TM-score\n",
    "    tm = torch.sum(1 / (1 + (distances / d0) ** 2)) / L_ref\n",
    "    return tm.item()\n",
    "\n",
    "# Exemplo de uso:\n",
    "L_ref = 50  # Número de resíduos\n",
    "P = torch.rand(L_ref, 3) * 10  # Coordenadas preditas aleatórias\n",
    "Q = torch.rand(L_ref, 3) * 10  # Coordenadas reais aleatórias\n",
    "\n",
    "score = tm_score(L_ref, P, Q)\n",
    "print(f\"TM-score: {score:.4f}\")\n"
   ]
  },
  {
   "cell_type": "code",
   "execution_count": 75,
   "metadata": {},
   "outputs": [
    {
     "data": {
      "text/plain": [
       "0.001034691696986556"
      ]
     },
     "execution_count": 75,
     "metadata": {},
     "output_type": "execute_result"
    }
   ],
   "source": [
    "tm_score(21, coordenadas, y_train.iloc[:21].values)"
   ]
  },
  {
   "cell_type": "code",
   "execution_count": 76,
   "metadata": {},
   "outputs": [
    {
     "data": {
      "text/plain": [
       "array([[-1.0847820e+00, -2.3159556e+00, -4.1333508e-01],\n",
       "       [-1.6626283e+00, -3.7375617e+00, -5.6016374e-01],\n",
       "       [-1.6001683e+00, -4.0288358e+00, -4.7301054e-03],\n",
       "       [-1.6551267e+00, -3.6416712e+00, -1.8934119e-01],\n",
       "       [-2.0769048e+00, -4.0940189e+00, -7.8334606e-01],\n",
       "       [-2.1627364e+00, -4.0642934e+00, -8.6842716e-01],\n",
       "       [-1.5579461e+00, -4.0688357e+00, -5.8111310e-02],\n",
       "       [-1.8597060e+00, -4.2635961e+00, -3.6929882e-01],\n",
       "       [-1.0629088e+00, -3.0347476e+00,  2.6792002e-01],\n",
       "       [-1.9989663e+00, -4.8247409e+00, -1.7613661e-01],\n",
       "       [-3.2982969e+00, -6.1738391e+00, -1.3688453e+00],\n",
       "       [-2.1976633e+00, -4.3325009e+00, -8.5168350e-01],\n",
       "       [-2.0424757e+00, -4.4308305e+00, -4.4202280e-01],\n",
       "       [-1.9292163e+00, -4.4445214e+00, -4.9672127e-03],\n",
       "       [-1.9090673e+00, -4.4092069e+00, -5.5955052e-02],\n",
       "       [-1.6015040e+00, -3.6968427e+00, -9.1796279e-02],\n",
       "       [-1.7214345e+00, -4.2612734e+00, -5.1030636e-02],\n",
       "       [-2.4161596e+00, -4.6377244e+00, -8.4779298e-01],\n",
       "       [-1.9423710e+00, -4.1828399e+00, -5.8377504e-01],\n",
       "       [-1.7104288e+00, -4.0372548e+00, -3.1336474e-01],\n",
       "       [-1.6658951e+00, -4.2190661e+00,  1.0988593e-01]], dtype=float32)"
      ]
     },
     "execution_count": 76,
     "metadata": {},
     "output_type": "execute_result"
    }
   ],
   "source": [
    "coordenadas"
   ]
  },
  {
   "cell_type": "code",
   "execution_count": 77,
   "metadata": {},
   "outputs": [
    {
     "data": {
      "text/plain": [
       "array([[ 35.85699844, -10.76900005,  -7.54799986],\n",
       "       [ 30.22999954, -12.07499981,  -8.61400032],\n",
       "       [ 23.96800041, -11.35599995,  -7.69000006],\n",
       "       [ 19.29599953,  -9.8739996 ,  -4.77799988],\n",
       "       [ 16.36199951,  -6.04699993,  -0.70599997],\n",
       "       [ 15.63599968,  -1.54900002,   2.46300006],\n",
       "       [ 16.96999931,   2.89299989,   4.62599993],\n",
       "       [ 20.39100075,   6.86199999,   5.54899979],\n",
       "       [ 24.37000084,   9.63000011,   3.34800005],\n",
       "       [ 26.34199905,  12.36499977,  -0.59399998],\n",
       "       [ 23.91799927,  16.02300072,  -5.41800022],\n",
       "       [ 24.93799973,  15.56499958, -11.24300003],\n",
       "       [ 25.58799934,  10.09500027, -10.00399971],\n",
       "       [ 28.33300018,   7.8039999 ,  -6.25500011],\n",
       "       [ 28.9489994 ,   4.83599997,  -0.75599998],\n",
       "       [ 26.74900055,   1.38999999,   3.28699994],\n",
       "       [ 24.11899948,  -2.8210001 ,   6.02600002],\n",
       "       [ 22.77099991,  -7.66499996,   5.35500002],\n",
       "       [ 22.32999992, -13.6260004 ,   3.10700011],\n",
       "       [ 25.37299919, -17.3560009 ,  -0.29300001],\n",
       "       [ 29.96199989, -19.02499962,  -3.30900002]])"
      ]
     },
     "execution_count": 77,
     "metadata": {},
     "output_type": "execute_result"
    }
   ],
   "source": [
    "y_train.iloc[:21].values"
   ]
  },
  {
   "cell_type": "code",
   "execution_count": 78,
   "metadata": {},
   "outputs": [],
   "source": [
    "import plotly.express as px"
   ]
  },
  {
   "cell_type": "code",
   "execution_count": 80,
   "metadata": {},
   "outputs": [],
   "source": [
    "preditos = pd.DataFrame(coordenadas, columns=['x', 'y', 'z'])"
   ]
  },
  {
   "cell_type": "code",
   "execution_count": 81,
   "metadata": {},
   "outputs": [
    {
     "data": {
      "application/vnd.plotly.v1+json": {
       "config": {
        "plotlyServerURL": "https://plot.ly"
       },
       "data": [
        {
         "hovertemplate": "x=%{x}<br>y=%{y}<br>z=%{z}<extra></extra>",
         "legendgroup": "",
         "line": {
          "color": "#636efa",
          "dash": "solid"
         },
         "marker": {
          "symbol": "circle"
         },
         "mode": "lines+markers",
         "name": "",
         "scene": "scene",
         "showlegend": false,
         "type": "scatter3d",
         "x": [
          -1.0847820043563843,
          -1.6626282930374146,
          -1.6001683473587036,
          -1.655126690864563,
          -2.076904773712158,
          -2.162736415863037,
          -1.5579460859298706,
          -1.8597060441970825,
          -1.0629087686538696,
          -1.9989663362503052,
          -3.2982969284057617,
          -2.1976633071899414,
          -2.042475700378418,
          -1.9292162656784058,
          -1.9090672731399536,
          -1.6015039682388306,
          -1.721434473991394,
          -2.4161596298217773,
          -1.9423710107803345,
          -1.7104288339614868,
          -1.6658951044082642
         ],
         "y": [
          -2.315955638885498,
          -3.7375617027282715,
          -4.028835773468018,
          -3.6416711807250977,
          -4.094018936157227,
          -4.064293384552002,
          -4.068835735321045,
          -4.263596057891846,
          -3.03474760055542,
          -4.824740886688232,
          -6.173839092254639,
          -4.33250093460083,
          -4.430830478668213,
          -4.444521427154541,
          -4.409206867218018,
          -3.696842670440674,
          -4.261273384094238,
          -4.63772439956665,
          -4.182839870452881,
          -4.037254810333252,
          -4.219066143035889
         ],
         "z": [
          -0.41333508491516113,
          -0.5601637363433838,
          -0.004730105400085449,
          -0.18934118747711182,
          -0.7833460569381714,
          -0.8684271574020386,
          -0.05811131000518799,
          -0.3692988157272339,
          0.26792001724243164,
          -0.17613661289215088,
          -1.3688453435897827,
          -0.851683497428894,
          -0.44202280044555664,
          -0.004967212677001953,
          -0.05595505237579346,
          -0.09179627895355225,
          -0.051030635833740234,
          -0.8477929830551147,
          -0.5837750434875488,
          -0.31336474418640137,
          0.10988593101501465
         ]
        }
       ],
       "layout": {
        "legend": {
         "tracegroupgap": 0
        },
        "margin": {
         "t": 60
        },
        "scene": {
         "domain": {
          "x": [
           0,
           1
          ],
          "y": [
           0,
           1
          ]
         },
         "xaxis": {
          "title": {
           "text": "x"
          }
         },
         "yaxis": {
          "title": {
           "text": "y"
          }
         },
         "zaxis": {
          "title": {
           "text": "z"
          }
         }
        },
        "template": {
         "data": {
          "bar": [
           {
            "error_x": {
             "color": "#2a3f5f"
            },
            "error_y": {
             "color": "#2a3f5f"
            },
            "marker": {
             "line": {
              "color": "#E5ECF6",
              "width": 0.5
             },
             "pattern": {
              "fillmode": "overlay",
              "size": 10,
              "solidity": 0.2
             }
            },
            "type": "bar"
           }
          ],
          "barpolar": [
           {
            "marker": {
             "line": {
              "color": "#E5ECF6",
              "width": 0.5
             },
             "pattern": {
              "fillmode": "overlay",
              "size": 10,
              "solidity": 0.2
             }
            },
            "type": "barpolar"
           }
          ],
          "carpet": [
           {
            "aaxis": {
             "endlinecolor": "#2a3f5f",
             "gridcolor": "white",
             "linecolor": "white",
             "minorgridcolor": "white",
             "startlinecolor": "#2a3f5f"
            },
            "baxis": {
             "endlinecolor": "#2a3f5f",
             "gridcolor": "white",
             "linecolor": "white",
             "minorgridcolor": "white",
             "startlinecolor": "#2a3f5f"
            },
            "type": "carpet"
           }
          ],
          "choropleth": [
           {
            "colorbar": {
             "outlinewidth": 0,
             "ticks": ""
            },
            "type": "choropleth"
           }
          ],
          "contour": [
           {
            "colorbar": {
             "outlinewidth": 0,
             "ticks": ""
            },
            "colorscale": [
             [
              0,
              "#0d0887"
             ],
             [
              0.1111111111111111,
              "#46039f"
             ],
             [
              0.2222222222222222,
              "#7201a8"
             ],
             [
              0.3333333333333333,
              "#9c179e"
             ],
             [
              0.4444444444444444,
              "#bd3786"
             ],
             [
              0.5555555555555556,
              "#d8576b"
             ],
             [
              0.6666666666666666,
              "#ed7953"
             ],
             [
              0.7777777777777778,
              "#fb9f3a"
             ],
             [
              0.8888888888888888,
              "#fdca26"
             ],
             [
              1,
              "#f0f921"
             ]
            ],
            "type": "contour"
           }
          ],
          "contourcarpet": [
           {
            "colorbar": {
             "outlinewidth": 0,
             "ticks": ""
            },
            "type": "contourcarpet"
           }
          ],
          "heatmap": [
           {
            "colorbar": {
             "outlinewidth": 0,
             "ticks": ""
            },
            "colorscale": [
             [
              0,
              "#0d0887"
             ],
             [
              0.1111111111111111,
              "#46039f"
             ],
             [
              0.2222222222222222,
              "#7201a8"
             ],
             [
              0.3333333333333333,
              "#9c179e"
             ],
             [
              0.4444444444444444,
              "#bd3786"
             ],
             [
              0.5555555555555556,
              "#d8576b"
             ],
             [
              0.6666666666666666,
              "#ed7953"
             ],
             [
              0.7777777777777778,
              "#fb9f3a"
             ],
             [
              0.8888888888888888,
              "#fdca26"
             ],
             [
              1,
              "#f0f921"
             ]
            ],
            "type": "heatmap"
           }
          ],
          "heatmapgl": [
           {
            "colorbar": {
             "outlinewidth": 0,
             "ticks": ""
            },
            "colorscale": [
             [
              0,
              "#0d0887"
             ],
             [
              0.1111111111111111,
              "#46039f"
             ],
             [
              0.2222222222222222,
              "#7201a8"
             ],
             [
              0.3333333333333333,
              "#9c179e"
             ],
             [
              0.4444444444444444,
              "#bd3786"
             ],
             [
              0.5555555555555556,
              "#d8576b"
             ],
             [
              0.6666666666666666,
              "#ed7953"
             ],
             [
              0.7777777777777778,
              "#fb9f3a"
             ],
             [
              0.8888888888888888,
              "#fdca26"
             ],
             [
              1,
              "#f0f921"
             ]
            ],
            "type": "heatmapgl"
           }
          ],
          "histogram": [
           {
            "marker": {
             "pattern": {
              "fillmode": "overlay",
              "size": 10,
              "solidity": 0.2
             }
            },
            "type": "histogram"
           }
          ],
          "histogram2d": [
           {
            "colorbar": {
             "outlinewidth": 0,
             "ticks": ""
            },
            "colorscale": [
             [
              0,
              "#0d0887"
             ],
             [
              0.1111111111111111,
              "#46039f"
             ],
             [
              0.2222222222222222,
              "#7201a8"
             ],
             [
              0.3333333333333333,
              "#9c179e"
             ],
             [
              0.4444444444444444,
              "#bd3786"
             ],
             [
              0.5555555555555556,
              "#d8576b"
             ],
             [
              0.6666666666666666,
              "#ed7953"
             ],
             [
              0.7777777777777778,
              "#fb9f3a"
             ],
             [
              0.8888888888888888,
              "#fdca26"
             ],
             [
              1,
              "#f0f921"
             ]
            ],
            "type": "histogram2d"
           }
          ],
          "histogram2dcontour": [
           {
            "colorbar": {
             "outlinewidth": 0,
             "ticks": ""
            },
            "colorscale": [
             [
              0,
              "#0d0887"
             ],
             [
              0.1111111111111111,
              "#46039f"
             ],
             [
              0.2222222222222222,
              "#7201a8"
             ],
             [
              0.3333333333333333,
              "#9c179e"
             ],
             [
              0.4444444444444444,
              "#bd3786"
             ],
             [
              0.5555555555555556,
              "#d8576b"
             ],
             [
              0.6666666666666666,
              "#ed7953"
             ],
             [
              0.7777777777777778,
              "#fb9f3a"
             ],
             [
              0.8888888888888888,
              "#fdca26"
             ],
             [
              1,
              "#f0f921"
             ]
            ],
            "type": "histogram2dcontour"
           }
          ],
          "mesh3d": [
           {
            "colorbar": {
             "outlinewidth": 0,
             "ticks": ""
            },
            "type": "mesh3d"
           }
          ],
          "parcoords": [
           {
            "line": {
             "colorbar": {
              "outlinewidth": 0,
              "ticks": ""
             }
            },
            "type": "parcoords"
           }
          ],
          "pie": [
           {
            "automargin": true,
            "type": "pie"
           }
          ],
          "scatter": [
           {
            "fillpattern": {
             "fillmode": "overlay",
             "size": 10,
             "solidity": 0.2
            },
            "type": "scatter"
           }
          ],
          "scatter3d": [
           {
            "line": {
             "colorbar": {
              "outlinewidth": 0,
              "ticks": ""
             }
            },
            "marker": {
             "colorbar": {
              "outlinewidth": 0,
              "ticks": ""
             }
            },
            "type": "scatter3d"
           }
          ],
          "scattercarpet": [
           {
            "marker": {
             "colorbar": {
              "outlinewidth": 0,
              "ticks": ""
             }
            },
            "type": "scattercarpet"
           }
          ],
          "scattergeo": [
           {
            "marker": {
             "colorbar": {
              "outlinewidth": 0,
              "ticks": ""
             }
            },
            "type": "scattergeo"
           }
          ],
          "scattergl": [
           {
            "marker": {
             "colorbar": {
              "outlinewidth": 0,
              "ticks": ""
             }
            },
            "type": "scattergl"
           }
          ],
          "scattermapbox": [
           {
            "marker": {
             "colorbar": {
              "outlinewidth": 0,
              "ticks": ""
             }
            },
            "type": "scattermapbox"
           }
          ],
          "scatterpolar": [
           {
            "marker": {
             "colorbar": {
              "outlinewidth": 0,
              "ticks": ""
             }
            },
            "type": "scatterpolar"
           }
          ],
          "scatterpolargl": [
           {
            "marker": {
             "colorbar": {
              "outlinewidth": 0,
              "ticks": ""
             }
            },
            "type": "scatterpolargl"
           }
          ],
          "scatterternary": [
           {
            "marker": {
             "colorbar": {
              "outlinewidth": 0,
              "ticks": ""
             }
            },
            "type": "scatterternary"
           }
          ],
          "surface": [
           {
            "colorbar": {
             "outlinewidth": 0,
             "ticks": ""
            },
            "colorscale": [
             [
              0,
              "#0d0887"
             ],
             [
              0.1111111111111111,
              "#46039f"
             ],
             [
              0.2222222222222222,
              "#7201a8"
             ],
             [
              0.3333333333333333,
              "#9c179e"
             ],
             [
              0.4444444444444444,
              "#bd3786"
             ],
             [
              0.5555555555555556,
              "#d8576b"
             ],
             [
              0.6666666666666666,
              "#ed7953"
             ],
             [
              0.7777777777777778,
              "#fb9f3a"
             ],
             [
              0.8888888888888888,
              "#fdca26"
             ],
             [
              1,
              "#f0f921"
             ]
            ],
            "type": "surface"
           }
          ],
          "table": [
           {
            "cells": {
             "fill": {
              "color": "#EBF0F8"
             },
             "line": {
              "color": "white"
             }
            },
            "header": {
             "fill": {
              "color": "#C8D4E3"
             },
             "line": {
              "color": "white"
             }
            },
            "type": "table"
           }
          ]
         },
         "layout": {
          "annotationdefaults": {
           "arrowcolor": "#2a3f5f",
           "arrowhead": 0,
           "arrowwidth": 1
          },
          "autotypenumbers": "strict",
          "coloraxis": {
           "colorbar": {
            "outlinewidth": 0,
            "ticks": ""
           }
          },
          "colorscale": {
           "diverging": [
            [
             0,
             "#8e0152"
            ],
            [
             0.1,
             "#c51b7d"
            ],
            [
             0.2,
             "#de77ae"
            ],
            [
             0.3,
             "#f1b6da"
            ],
            [
             0.4,
             "#fde0ef"
            ],
            [
             0.5,
             "#f7f7f7"
            ],
            [
             0.6,
             "#e6f5d0"
            ],
            [
             0.7,
             "#b8e186"
            ],
            [
             0.8,
             "#7fbc41"
            ],
            [
             0.9,
             "#4d9221"
            ],
            [
             1,
             "#276419"
            ]
           ],
           "sequential": [
            [
             0,
             "#0d0887"
            ],
            [
             0.1111111111111111,
             "#46039f"
            ],
            [
             0.2222222222222222,
             "#7201a8"
            ],
            [
             0.3333333333333333,
             "#9c179e"
            ],
            [
             0.4444444444444444,
             "#bd3786"
            ],
            [
             0.5555555555555556,
             "#d8576b"
            ],
            [
             0.6666666666666666,
             "#ed7953"
            ],
            [
             0.7777777777777778,
             "#fb9f3a"
            ],
            [
             0.8888888888888888,
             "#fdca26"
            ],
            [
             1,
             "#f0f921"
            ]
           ],
           "sequentialminus": [
            [
             0,
             "#0d0887"
            ],
            [
             0.1111111111111111,
             "#46039f"
            ],
            [
             0.2222222222222222,
             "#7201a8"
            ],
            [
             0.3333333333333333,
             "#9c179e"
            ],
            [
             0.4444444444444444,
             "#bd3786"
            ],
            [
             0.5555555555555556,
             "#d8576b"
            ],
            [
             0.6666666666666666,
             "#ed7953"
            ],
            [
             0.7777777777777778,
             "#fb9f3a"
            ],
            [
             0.8888888888888888,
             "#fdca26"
            ],
            [
             1,
             "#f0f921"
            ]
           ]
          },
          "colorway": [
           "#636efa",
           "#EF553B",
           "#00cc96",
           "#ab63fa",
           "#FFA15A",
           "#19d3f3",
           "#FF6692",
           "#B6E880",
           "#FF97FF",
           "#FECB52"
          ],
          "font": {
           "color": "#2a3f5f"
          },
          "geo": {
           "bgcolor": "white",
           "lakecolor": "white",
           "landcolor": "#E5ECF6",
           "showlakes": true,
           "showland": true,
           "subunitcolor": "white"
          },
          "hoverlabel": {
           "align": "left"
          },
          "hovermode": "closest",
          "mapbox": {
           "style": "light"
          },
          "paper_bgcolor": "white",
          "plot_bgcolor": "#E5ECF6",
          "polar": {
           "angularaxis": {
            "gridcolor": "white",
            "linecolor": "white",
            "ticks": ""
           },
           "bgcolor": "#E5ECF6",
           "radialaxis": {
            "gridcolor": "white",
            "linecolor": "white",
            "ticks": ""
           }
          },
          "scene": {
           "xaxis": {
            "backgroundcolor": "#E5ECF6",
            "gridcolor": "white",
            "gridwidth": 2,
            "linecolor": "white",
            "showbackground": true,
            "ticks": "",
            "zerolinecolor": "white"
           },
           "yaxis": {
            "backgroundcolor": "#E5ECF6",
            "gridcolor": "white",
            "gridwidth": 2,
            "linecolor": "white",
            "showbackground": true,
            "ticks": "",
            "zerolinecolor": "white"
           },
           "zaxis": {
            "backgroundcolor": "#E5ECF6",
            "gridcolor": "white",
            "gridwidth": 2,
            "linecolor": "white",
            "showbackground": true,
            "ticks": "",
            "zerolinecolor": "white"
           }
          },
          "shapedefaults": {
           "line": {
            "color": "#2a3f5f"
           }
          },
          "ternary": {
           "aaxis": {
            "gridcolor": "white",
            "linecolor": "white",
            "ticks": ""
           },
           "baxis": {
            "gridcolor": "white",
            "linecolor": "white",
            "ticks": ""
           },
           "bgcolor": "#E5ECF6",
           "caxis": {
            "gridcolor": "white",
            "linecolor": "white",
            "ticks": ""
           }
          },
          "title": {
           "x": 0.05
          },
          "xaxis": {
           "automargin": true,
           "gridcolor": "white",
           "linecolor": "white",
           "ticks": "",
           "title": {
            "standoff": 15
           },
           "zerolinecolor": "white",
           "zerolinewidth": 2
          },
          "yaxis": {
           "automargin": true,
           "gridcolor": "white",
           "linecolor": "white",
           "ticks": "",
           "title": {
            "standoff": 15
           },
           "zerolinecolor": "white",
           "zerolinewidth": 2
          }
         }
        }
       }
      }
     },
     "metadata": {},
     "output_type": "display_data"
    }
   ],
   "source": [
    "px.line_3d(preditos, \"x\", \"y\", \"z\", markers=\"o\")"
   ]
  },
  {
   "cell_type": "code",
   "execution_count": null,
   "metadata": {},
   "outputs": [],
   "source": []
  },
  {
   "cell_type": "code",
   "execution_count": 82,
   "metadata": {},
   "outputs": [
    {
     "data": {
      "application/vnd.plotly.v1+json": {
       "config": {
        "plotlyServerURL": "https://plot.ly"
       },
       "data": [
        {
         "hovertemplate": "x_1=%{x}<br>y_1=%{y}<br>z_1=%{z}<extra></extra>",
         "legendgroup": "",
         "line": {
          "color": "#636efa",
          "dash": "solid"
         },
         "marker": {
          "symbol": "circle"
         },
         "mode": "lines+markers",
         "name": "",
         "scene": "scene",
         "showlegend": false,
         "type": "scatter3d",
         "x": [
          35.85699844360352,
          30.229999542236328,
          23.968000411987305,
          19.29599952697754,
          16.36199951171875,
          15.63599967956543,
          16.969999313354492,
          20.391000747680664,
          24.3700008392334,
          26.34199905395508,
          23.917999267578125,
          24.9379997253418,
          25.58799934387207,
          28.33300018310547,
          28.948999404907227,
          26.749000549316406,
          24.11899948120117,
          22.770999908447266,
          22.32999992370605,
          25.37299919128418,
          29.96199989318848
         ],
         "y": [
          -10.769000053405762,
          -12.074999809265137,
          -11.355999946594238,
          -9.87399959564209,
          -6.046999931335449,
          -1.5490000247955322,
          2.8929998874664307,
          6.861999988555908,
          9.630000114440918,
          12.364999771118164,
          16.023000717163086,
          15.5649995803833,
          10.095000267028809,
          7.803999900817871,
          4.835999965667725,
          1.3899999856948853,
          -2.821000099182129,
          -7.664999961853027,
          -13.62600040435791,
          -17.356000900268555,
          -19.02499961853028
         ],
         "z": [
          -7.547999858856201,
          -8.61400032043457,
          -7.690000057220459,
          -4.777999877929688,
          -0.7059999704360962,
          2.463000059127808,
          4.625999927520752,
          5.548999786376953,
          3.3480000495910645,
          -0.593999981880188,
          -5.418000221252441,
          -11.243000030517578,
          -10.003999710083008,
          -6.255000114440918,
          -0.7559999823570251,
          3.2869999408721924,
          6.026000022888184,
          5.355000019073486,
          3.1070001125335693,
          -0.2930000126361847,
          -3.309000015258789
         ]
        }
       ],
       "layout": {
        "legend": {
         "tracegroupgap": 0
        },
        "margin": {
         "t": 60
        },
        "scene": {
         "domain": {
          "x": [
           0,
           1
          ],
          "y": [
           0,
           1
          ]
         },
         "xaxis": {
          "title": {
           "text": "x_1"
          }
         },
         "yaxis": {
          "title": {
           "text": "y_1"
          }
         },
         "zaxis": {
          "title": {
           "text": "z_1"
          }
         }
        },
        "template": {
         "data": {
          "bar": [
           {
            "error_x": {
             "color": "#2a3f5f"
            },
            "error_y": {
             "color": "#2a3f5f"
            },
            "marker": {
             "line": {
              "color": "#E5ECF6",
              "width": 0.5
             },
             "pattern": {
              "fillmode": "overlay",
              "size": 10,
              "solidity": 0.2
             }
            },
            "type": "bar"
           }
          ],
          "barpolar": [
           {
            "marker": {
             "line": {
              "color": "#E5ECF6",
              "width": 0.5
             },
             "pattern": {
              "fillmode": "overlay",
              "size": 10,
              "solidity": 0.2
             }
            },
            "type": "barpolar"
           }
          ],
          "carpet": [
           {
            "aaxis": {
             "endlinecolor": "#2a3f5f",
             "gridcolor": "white",
             "linecolor": "white",
             "minorgridcolor": "white",
             "startlinecolor": "#2a3f5f"
            },
            "baxis": {
             "endlinecolor": "#2a3f5f",
             "gridcolor": "white",
             "linecolor": "white",
             "minorgridcolor": "white",
             "startlinecolor": "#2a3f5f"
            },
            "type": "carpet"
           }
          ],
          "choropleth": [
           {
            "colorbar": {
             "outlinewidth": 0,
             "ticks": ""
            },
            "type": "choropleth"
           }
          ],
          "contour": [
           {
            "colorbar": {
             "outlinewidth": 0,
             "ticks": ""
            },
            "colorscale": [
             [
              0,
              "#0d0887"
             ],
             [
              0.1111111111111111,
              "#46039f"
             ],
             [
              0.2222222222222222,
              "#7201a8"
             ],
             [
              0.3333333333333333,
              "#9c179e"
             ],
             [
              0.4444444444444444,
              "#bd3786"
             ],
             [
              0.5555555555555556,
              "#d8576b"
             ],
             [
              0.6666666666666666,
              "#ed7953"
             ],
             [
              0.7777777777777778,
              "#fb9f3a"
             ],
             [
              0.8888888888888888,
              "#fdca26"
             ],
             [
              1,
              "#f0f921"
             ]
            ],
            "type": "contour"
           }
          ],
          "contourcarpet": [
           {
            "colorbar": {
             "outlinewidth": 0,
             "ticks": ""
            },
            "type": "contourcarpet"
           }
          ],
          "heatmap": [
           {
            "colorbar": {
             "outlinewidth": 0,
             "ticks": ""
            },
            "colorscale": [
             [
              0,
              "#0d0887"
             ],
             [
              0.1111111111111111,
              "#46039f"
             ],
             [
              0.2222222222222222,
              "#7201a8"
             ],
             [
              0.3333333333333333,
              "#9c179e"
             ],
             [
              0.4444444444444444,
              "#bd3786"
             ],
             [
              0.5555555555555556,
              "#d8576b"
             ],
             [
              0.6666666666666666,
              "#ed7953"
             ],
             [
              0.7777777777777778,
              "#fb9f3a"
             ],
             [
              0.8888888888888888,
              "#fdca26"
             ],
             [
              1,
              "#f0f921"
             ]
            ],
            "type": "heatmap"
           }
          ],
          "heatmapgl": [
           {
            "colorbar": {
             "outlinewidth": 0,
             "ticks": ""
            },
            "colorscale": [
             [
              0,
              "#0d0887"
             ],
             [
              0.1111111111111111,
              "#46039f"
             ],
             [
              0.2222222222222222,
              "#7201a8"
             ],
             [
              0.3333333333333333,
              "#9c179e"
             ],
             [
              0.4444444444444444,
              "#bd3786"
             ],
             [
              0.5555555555555556,
              "#d8576b"
             ],
             [
              0.6666666666666666,
              "#ed7953"
             ],
             [
              0.7777777777777778,
              "#fb9f3a"
             ],
             [
              0.8888888888888888,
              "#fdca26"
             ],
             [
              1,
              "#f0f921"
             ]
            ],
            "type": "heatmapgl"
           }
          ],
          "histogram": [
           {
            "marker": {
             "pattern": {
              "fillmode": "overlay",
              "size": 10,
              "solidity": 0.2
             }
            },
            "type": "histogram"
           }
          ],
          "histogram2d": [
           {
            "colorbar": {
             "outlinewidth": 0,
             "ticks": ""
            },
            "colorscale": [
             [
              0,
              "#0d0887"
             ],
             [
              0.1111111111111111,
              "#46039f"
             ],
             [
              0.2222222222222222,
              "#7201a8"
             ],
             [
              0.3333333333333333,
              "#9c179e"
             ],
             [
              0.4444444444444444,
              "#bd3786"
             ],
             [
              0.5555555555555556,
              "#d8576b"
             ],
             [
              0.6666666666666666,
              "#ed7953"
             ],
             [
              0.7777777777777778,
              "#fb9f3a"
             ],
             [
              0.8888888888888888,
              "#fdca26"
             ],
             [
              1,
              "#f0f921"
             ]
            ],
            "type": "histogram2d"
           }
          ],
          "histogram2dcontour": [
           {
            "colorbar": {
             "outlinewidth": 0,
             "ticks": ""
            },
            "colorscale": [
             [
              0,
              "#0d0887"
             ],
             [
              0.1111111111111111,
              "#46039f"
             ],
             [
              0.2222222222222222,
              "#7201a8"
             ],
             [
              0.3333333333333333,
              "#9c179e"
             ],
             [
              0.4444444444444444,
              "#bd3786"
             ],
             [
              0.5555555555555556,
              "#d8576b"
             ],
             [
              0.6666666666666666,
              "#ed7953"
             ],
             [
              0.7777777777777778,
              "#fb9f3a"
             ],
             [
              0.8888888888888888,
              "#fdca26"
             ],
             [
              1,
              "#f0f921"
             ]
            ],
            "type": "histogram2dcontour"
           }
          ],
          "mesh3d": [
           {
            "colorbar": {
             "outlinewidth": 0,
             "ticks": ""
            },
            "type": "mesh3d"
           }
          ],
          "parcoords": [
           {
            "line": {
             "colorbar": {
              "outlinewidth": 0,
              "ticks": ""
             }
            },
            "type": "parcoords"
           }
          ],
          "pie": [
           {
            "automargin": true,
            "type": "pie"
           }
          ],
          "scatter": [
           {
            "fillpattern": {
             "fillmode": "overlay",
             "size": 10,
             "solidity": 0.2
            },
            "type": "scatter"
           }
          ],
          "scatter3d": [
           {
            "line": {
             "colorbar": {
              "outlinewidth": 0,
              "ticks": ""
             }
            },
            "marker": {
             "colorbar": {
              "outlinewidth": 0,
              "ticks": ""
             }
            },
            "type": "scatter3d"
           }
          ],
          "scattercarpet": [
           {
            "marker": {
             "colorbar": {
              "outlinewidth": 0,
              "ticks": ""
             }
            },
            "type": "scattercarpet"
           }
          ],
          "scattergeo": [
           {
            "marker": {
             "colorbar": {
              "outlinewidth": 0,
              "ticks": ""
             }
            },
            "type": "scattergeo"
           }
          ],
          "scattergl": [
           {
            "marker": {
             "colorbar": {
              "outlinewidth": 0,
              "ticks": ""
             }
            },
            "type": "scattergl"
           }
          ],
          "scattermapbox": [
           {
            "marker": {
             "colorbar": {
              "outlinewidth": 0,
              "ticks": ""
             }
            },
            "type": "scattermapbox"
           }
          ],
          "scatterpolar": [
           {
            "marker": {
             "colorbar": {
              "outlinewidth": 0,
              "ticks": ""
             }
            },
            "type": "scatterpolar"
           }
          ],
          "scatterpolargl": [
           {
            "marker": {
             "colorbar": {
              "outlinewidth": 0,
              "ticks": ""
             }
            },
            "type": "scatterpolargl"
           }
          ],
          "scatterternary": [
           {
            "marker": {
             "colorbar": {
              "outlinewidth": 0,
              "ticks": ""
             }
            },
            "type": "scatterternary"
           }
          ],
          "surface": [
           {
            "colorbar": {
             "outlinewidth": 0,
             "ticks": ""
            },
            "colorscale": [
             [
              0,
              "#0d0887"
             ],
             [
              0.1111111111111111,
              "#46039f"
             ],
             [
              0.2222222222222222,
              "#7201a8"
             ],
             [
              0.3333333333333333,
              "#9c179e"
             ],
             [
              0.4444444444444444,
              "#bd3786"
             ],
             [
              0.5555555555555556,
              "#d8576b"
             ],
             [
              0.6666666666666666,
              "#ed7953"
             ],
             [
              0.7777777777777778,
              "#fb9f3a"
             ],
             [
              0.8888888888888888,
              "#fdca26"
             ],
             [
              1,
              "#f0f921"
             ]
            ],
            "type": "surface"
           }
          ],
          "table": [
           {
            "cells": {
             "fill": {
              "color": "#EBF0F8"
             },
             "line": {
              "color": "white"
             }
            },
            "header": {
             "fill": {
              "color": "#C8D4E3"
             },
             "line": {
              "color": "white"
             }
            },
            "type": "table"
           }
          ]
         },
         "layout": {
          "annotationdefaults": {
           "arrowcolor": "#2a3f5f",
           "arrowhead": 0,
           "arrowwidth": 1
          },
          "autotypenumbers": "strict",
          "coloraxis": {
           "colorbar": {
            "outlinewidth": 0,
            "ticks": ""
           }
          },
          "colorscale": {
           "diverging": [
            [
             0,
             "#8e0152"
            ],
            [
             0.1,
             "#c51b7d"
            ],
            [
             0.2,
             "#de77ae"
            ],
            [
             0.3,
             "#f1b6da"
            ],
            [
             0.4,
             "#fde0ef"
            ],
            [
             0.5,
             "#f7f7f7"
            ],
            [
             0.6,
             "#e6f5d0"
            ],
            [
             0.7,
             "#b8e186"
            ],
            [
             0.8,
             "#7fbc41"
            ],
            [
             0.9,
             "#4d9221"
            ],
            [
             1,
             "#276419"
            ]
           ],
           "sequential": [
            [
             0,
             "#0d0887"
            ],
            [
             0.1111111111111111,
             "#46039f"
            ],
            [
             0.2222222222222222,
             "#7201a8"
            ],
            [
             0.3333333333333333,
             "#9c179e"
            ],
            [
             0.4444444444444444,
             "#bd3786"
            ],
            [
             0.5555555555555556,
             "#d8576b"
            ],
            [
             0.6666666666666666,
             "#ed7953"
            ],
            [
             0.7777777777777778,
             "#fb9f3a"
            ],
            [
             0.8888888888888888,
             "#fdca26"
            ],
            [
             1,
             "#f0f921"
            ]
           ],
           "sequentialminus": [
            [
             0,
             "#0d0887"
            ],
            [
             0.1111111111111111,
             "#46039f"
            ],
            [
             0.2222222222222222,
             "#7201a8"
            ],
            [
             0.3333333333333333,
             "#9c179e"
            ],
            [
             0.4444444444444444,
             "#bd3786"
            ],
            [
             0.5555555555555556,
             "#d8576b"
            ],
            [
             0.6666666666666666,
             "#ed7953"
            ],
            [
             0.7777777777777778,
             "#fb9f3a"
            ],
            [
             0.8888888888888888,
             "#fdca26"
            ],
            [
             1,
             "#f0f921"
            ]
           ]
          },
          "colorway": [
           "#636efa",
           "#EF553B",
           "#00cc96",
           "#ab63fa",
           "#FFA15A",
           "#19d3f3",
           "#FF6692",
           "#B6E880",
           "#FF97FF",
           "#FECB52"
          ],
          "font": {
           "color": "#2a3f5f"
          },
          "geo": {
           "bgcolor": "white",
           "lakecolor": "white",
           "landcolor": "#E5ECF6",
           "showlakes": true,
           "showland": true,
           "subunitcolor": "white"
          },
          "hoverlabel": {
           "align": "left"
          },
          "hovermode": "closest",
          "mapbox": {
           "style": "light"
          },
          "paper_bgcolor": "white",
          "plot_bgcolor": "#E5ECF6",
          "polar": {
           "angularaxis": {
            "gridcolor": "white",
            "linecolor": "white",
            "ticks": ""
           },
           "bgcolor": "#E5ECF6",
           "radialaxis": {
            "gridcolor": "white",
            "linecolor": "white",
            "ticks": ""
           }
          },
          "scene": {
           "xaxis": {
            "backgroundcolor": "#E5ECF6",
            "gridcolor": "white",
            "gridwidth": 2,
            "linecolor": "white",
            "showbackground": true,
            "ticks": "",
            "zerolinecolor": "white"
           },
           "yaxis": {
            "backgroundcolor": "#E5ECF6",
            "gridcolor": "white",
            "gridwidth": 2,
            "linecolor": "white",
            "showbackground": true,
            "ticks": "",
            "zerolinecolor": "white"
           },
           "zaxis": {
            "backgroundcolor": "#E5ECF6",
            "gridcolor": "white",
            "gridwidth": 2,
            "linecolor": "white",
            "showbackground": true,
            "ticks": "",
            "zerolinecolor": "white"
           }
          },
          "shapedefaults": {
           "line": {
            "color": "#2a3f5f"
           }
          },
          "ternary": {
           "aaxis": {
            "gridcolor": "white",
            "linecolor": "white",
            "ticks": ""
           },
           "baxis": {
            "gridcolor": "white",
            "linecolor": "white",
            "ticks": ""
           },
           "bgcolor": "#E5ECF6",
           "caxis": {
            "gridcolor": "white",
            "linecolor": "white",
            "ticks": ""
           }
          },
          "title": {
           "x": 0.05
          },
          "xaxis": {
           "automargin": true,
           "gridcolor": "white",
           "linecolor": "white",
           "ticks": "",
           "title": {
            "standoff": 15
           },
           "zerolinecolor": "white",
           "zerolinewidth": 2
          },
          "yaxis": {
           "automargin": true,
           "gridcolor": "white",
           "linecolor": "white",
           "ticks": "",
           "title": {
            "standoff": 15
           },
           "zerolinecolor": "white",
           "zerolinewidth": 2
          }
         }
        }
       }
      }
     },
     "metadata": {},
     "output_type": "display_data"
    }
   ],
   "source": [
    "px.line_3d(y_train.iloc[:21], \"x_1\", \"y_1\", \"z_1\", markers=\"o\")"
   ]
  }
 ],
 "metadata": {
  "kernelspec": {
   "display_name": "Python 3",
   "language": "python",
   "name": "python3"
  },
  "language_info": {
   "codemirror_mode": {
    "name": "ipython",
    "version": 3
   },
   "file_extension": ".py",
   "mimetype": "text/x-python",
   "name": "python",
   "nbconvert_exporter": "python",
   "pygments_lexer": "ipython3",
   "version": "3.11.6"
  }
 },
 "nbformat": 4,
 "nbformat_minor": 2
}
